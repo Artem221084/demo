{
 "cells": [
  {
   "cell_type": "code",
   "execution_count": 1,
   "metadata": {},
   "outputs": [
    {
     "ename": "ModuleNotFoundError",
     "evalue": "No module named 'project_0'",
     "output_type": "error",
     "traceback": [
      "\u001b[1;31m---------------------------------------------------------------------------\u001b[0m",
      "\u001b[1;31mModuleNotFoundError\u001b[0m                       Traceback (most recent call last)",
      "Cell \u001b[1;32mIn[1], line 1\u001b[0m\n\u001b[1;32m----> 1\u001b[0m \u001b[38;5;28;01mimport\u001b[39;00m\u001b[38;5;250m \u001b[39m\u001b[38;5;21;01mproject_0\u001b[39;00m\u001b[38;5;21;01m.\u001b[39;00m\u001b[38;5;21;01mgame\u001b[39;00m\u001b[38;5;250m \u001b[39m\u001b[38;5;28;01mas\u001b[39;00m\u001b[38;5;250m \u001b[39m\u001b[38;5;21;01mgame\u001b[39;00m\n",
      "\u001b[1;31mModuleNotFoundError\u001b[0m: No module named 'project_0'"
     ]
    }
   ],
   "source": [
    "import project_0.game as game\n"
   ]
  },
  {
   "cell_type": "markdown",
   "metadata": {},
   "source": [
    "Примечание. С помощью ключевого слова from мы указываем, откуда будет производиться импорт, а далее прописываем функцию, которую будем импортировать. После этого мы можем уже напрямую обращаться к функции по имени.\n",
    "\n",
    "Чтобы не прописывать импорт из одного и того же модуля несколько раз, можно перечислить нужные нам из этого модуля функции через запятую:\n",
    "\n",
    "from game_v2 import score_game, random_predict"
   ]
  },
  {
   "cell_type": "markdown",
   "metadata": {},
   "source": [
    "Важно! Хорошим тоном считается переносить код в файлы Python, чтобы с ним было проще работать на продакшене, а в Jupyter Notebook делать исключительно презентацию."
   ]
  },
  {
   "cell_type": "markdown",
   "metadata": {},
   "source": [
    "Ещё одна особенность Jupyter Notebook в VS Code — возможность просмотра переменных. При изменении переменных мы также сможем увидеть результат этих изменений."
   ]
  },
  {
   "cell_type": "markdown",
   "metadata": {},
   "source": [
    "С помощью меню Variables мы можем просмотреть значения всех глобальных переменных, которые объявлены в ноутбуке:"
   ]
  },
  {
   "cell_type": "markdown",
   "metadata": {},
   "source": [
    "# С помощью символа # можно создавать заголовки разных уровней (# — первый уровень, ## — второй уровень и т. д.)."
   ]
  },
  {
   "cell_type": "markdown",
   "metadata": {},
   "source": [
    "## С помощью символа # можно создавать заголовки разных уровней (# — первый уровень, ## — второй уровень и т. д.)."
   ]
  },
  {
   "cell_type": "markdown",
   "metadata": {},
   "source": [
    "При работе с кодом часто используются дополнительные библиотеки. Однако библиотеки постоянно развиваются и обновляются. Чтобы ваш код оставался актуальным и воспроизводимым, необходимо фиксировать версии библиотек.\n",
    "\n",
    "Можно зафиксировать версии через pip командой pip freeze > requirements.txt.\n",
    "\n",
    "В результате выполнения команды в папке проекта появится файл requirements.txt, где будут перечислены все версии библиотек, которые сейчас установлены в окружении."
   ]
  }
 ],
 "metadata": {
  "kernelspec": {
   "display_name": "Python 3",
   "language": "python",
   "name": "python3"
  },
  "language_info": {
   "codemirror_mode": {
    "name": "ipython",
    "version": 3
   },
   "file_extension": ".py",
   "mimetype": "text/x-python",
   "name": "python",
   "nbconvert_exporter": "python",
   "pygments_lexer": "ipython3",
   "version": "3.8.10"
  }
 },
 "nbformat": 4,
 "nbformat_minor": 2
}
