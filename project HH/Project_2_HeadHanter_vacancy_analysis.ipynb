{
  "cells": [
    {
      "cell_type": "markdown",
      "id": "42289889-bd57-434e-9637-d3e354756316",
      "metadata": {
        "id": "42289889-bd57-434e-9637-d3e354756316"
      },
      "source": [
        "<center> <img src = https://raw.githubusercontent.com/AndreyRysistov/DatasetsForPandas/main/hh%20label.jpg alt=\"drawing\" style=\"width:400px;\">"
      ]
    },
    {
      "cell_type": "markdown",
      "id": "829cb75b-f14e-4ba8-9195-7ba929a7d656",
      "metadata": {
        "id": "829cb75b-f14e-4ba8-9195-7ba929a7d656",
        "tags": []
      },
      "source": [
        "# <center> Проект: Анализ вакансий из HeadHunter\n",
        "   "
      ]
    },
    {
      "cell_type": "code",
      "execution_count": 96,
      "id": "dccfde33-2452-43fb-a8a5-5c6ebc02a71d",
      "metadata": {
        "id": "dccfde33-2452-43fb-a8a5-5c6ebc02a71d"
      },
      "outputs": [],
      "source": [
        "import pandas as pd\n",
        "import psycopg2"
      ]
    },
    {
      "cell_type": "code",
      "execution_count": null,
      "id": "5c840131",
      "metadata": {},
      "outputs": [],
      "source": [
        "# хороший тон при фиксации изменений в github не публиковать код с открытыми данными для входа\n",
        "# для запуска кода поместите данные, которые указаны на странице курса в эту ячейку\n",
        "# при размещении в github удалите эту ячейку"
      ]
    },
    {
      "cell_type": "code",
      "execution_count": null,
      "id": "oVKH4ehvf8Ay",
      "metadata": {
        "id": "oVKH4ehvf8Ay"
      },
      "outputs": [],
      "source": [
        "# вставьте сюда параметры подключения из юнита 1. Работа с базой данных из Python "
      ]
    },
    {
      "cell_type": "code",
      "execution_count": 226,
      "id": "G4X_q8KBf7SF",
      "metadata": {
        "id": "G4X_q8KBf7SF"
      },
      "outputs": [],
      "source": [
        "connection = psycopg2.connect(\n",
        "   dbname=DBNAME,\n",
        "   user=USER,\n",
        "   host=HOST,\n",
        "   password=PASSWORD,\n",
        "   port=PORT\n",
        ")"
      ]
    },
    {
      "cell_type": "markdown",
      "id": "0dc6476b-7a00-44f1-ac93-6e3baed33a29",
      "metadata": {
        "id": "0dc6476b-7a00-44f1-ac93-6e3baed33a29"
      },
      "source": [
        "# Юнит 3. Предварительный анализ данных"
      ]
    },
    {
      "cell_type": "markdown",
      "id": "889782b6-8d1c-410e-8920-e57f27917c64",
      "metadata": {
        "id": "889782b6-8d1c-410e-8920-e57f27917c64"
      },
      "source": [
        "1. Напишите запрос, который посчитает количество вакансий в нашей базе (вакансии находятся в таблице vacancies). "
      ]
    },
    {
      "cell_type": "code",
      "execution_count": null,
      "id": "bc39e68e-ed02-4ee2-9235-7258a2f867a8",
      "metadata": {
        "id": "bc39e68e-ed02-4ee2-9235-7258a2f867a8"
      },
      "outputs": [],
      "source": [
        "# текст запроса\n",
        "query_3_1 = f'''\n",
        "select \n",
        "    count(*)\n",
        "from\n",
        "    vacancies;\n",
        "'''\n",
        "df = pd.read_sql_query(query_3_1, connection)\n",
        "df"
      ]
    },
    {
      "cell_type": "code",
      "execution_count": null,
      "id": "7mAwtsk4hEHY",
      "metadata": {
        "id": "7mAwtsk4hEHY"
      },
      "outputs": [],
      "source": [
        "# результат запроса\n",
        "49197"
      ]
    },
    {
      "cell_type": "markdown",
      "id": "b583485d-1f9e-494e-ada4-80ffff7c53d6",
      "metadata": {
        "id": "b583485d-1f9e-494e-ada4-80ffff7c53d6"
      },
      "source": [
        "2. Напишите запрос, который посчитает количество работодателей (таблица employers). "
      ]
    },
    {
      "cell_type": "code",
      "execution_count": null,
      "id": "5408c52c-3407-4a63-b25b-1aafa2322d28",
      "metadata": {
        "id": "5408c52c-3407-4a63-b25b-1aafa2322d28"
      },
      "outputs": [],
      "source": [
        "# текст запроса\n",
        "query_3_1 = f'''\n",
        "select \n",
        "    count(*)\n",
        "from\n",
        "    employers;\n",
        "'''\n",
        "df = pd.read_sql_query(query_3_1, connection)\n",
        "df"
      ]
    },
    {
      "cell_type": "code",
      "execution_count": null,
      "id": "jVL4eshKhdqc",
      "metadata": {
        "id": "jVL4eshKhdqc"
      },
      "outputs": [],
      "source": [
        "# результат запроса\n",
        "23501"
      ]
    },
    {
      "cell_type": "markdown",
      "id": "a2bfff1f-c975-4bf6-84be-2185d79dcb76",
      "metadata": {
        "id": "a2bfff1f-c975-4bf6-84be-2185d79dcb76"
      },
      "source": [
        "3. Посчитате с помощью запроса количество регионов (таблица areas)."
      ]
    },
    {
      "cell_type": "code",
      "execution_count": null,
      "id": "1m8QJwBYhey6",
      "metadata": {
        "id": "1m8QJwBYhey6"
      },
      "outputs": [],
      "source": [
        "# текст запроса\n",
        "query_3_1 = f'''\n",
        "select \n",
        "    count(*)\n",
        "from\n",
        "    areas;\n",
        "'''\n",
        "df = pd.read_sql_query(query_3_1, connection)\n",
        "df"
      ]
    },
    {
      "cell_type": "code",
      "execution_count": null,
      "id": "EZsn9tlfhe7f",
      "metadata": {
        "id": "EZsn9tlfhe7f"
      },
      "outputs": [],
      "source": [
        "# результат запроса\n",
        "1362"
      ]
    },
    {
      "cell_type": "markdown",
      "id": "41bb59f3-53cc-4a67-a5bc-bedf573955e4",
      "metadata": {
        "id": "41bb59f3-53cc-4a67-a5bc-bedf573955e4"
      },
      "source": [
        "4. Посчитате с помощью запроса количество сфер деятельности в базе (таблица industries)."
      ]
    },
    {
      "cell_type": "code",
      "execution_count": null,
      "id": "d286cf4c-707b-4cd2-9190-7ab3587d04a1",
      "metadata": {
        "id": "d286cf4c-707b-4cd2-9190-7ab3587d04a1"
      },
      "outputs": [],
      "source": [
        "# текст запроса\n",
        "query_3_1 = f'''\n",
        "select \n",
        "    count(*)\n",
        "from\n",
        "    industries;\n",
        "'''\n",
        "df = pd.read_sql_query(query_3_1, connection)\n",
        "df"
      ]
    },
    {
      "cell_type": "code",
      "execution_count": null,
      "id": "JYAaoZ4qhfzW",
      "metadata": {
        "id": "JYAaoZ4qhfzW"
      },
      "outputs": [],
      "source": [
        "# результат запроса\n",
        "294"
      ]
    },
    {
      "cell_type": "markdown",
      "id": "9a8a2181-6914-448b-85f1-38f5f18b8a93",
      "metadata": {
        "id": "9a8a2181-6914-448b-85f1-38f5f18b8a93"
      },
      "source": [
        "***"
      ]
    },
    {
      "cell_type": "markdown",
      "id": "c3d08a03",
      "metadata": {},
      "source": [
        "# Выводы по предварительному анализу данных\n",
        "  \n",
        "  1) Количество вакансий **(49 197)**\n",
        "\n",
        "- В базе содержится почти 50 тыс. вакансий, что говорит о достаточно большом объёме данных для анализа.\n",
        "- Это позволяет делать статистически значимые выводы о рынке труда.\n",
        "\n",
        "  2) Количество работодателей **(23 501)**\n",
        "\n",
        "- В среднем на 1 работодателя приходится ~2 вакансии (49 197 / 23 501 ≈ 2.09).\n",
        "- Это может означать, что большинство компаний размещают немного вакансий, но есть и крупные работодатели с большим количеством открытых позиций.\n",
        "\n",
        "  3) Количество регионов **(1 362)**\n",
        "\n",
        "- База охватывает 1 362 региона, включая города, области и страны (возможно есть международные вакансии).\n",
        "\n",
        "- Основная часть вакансий, скорее всего, сосредоточена в крупных городах (Москва, Санкт-Петербург и др.).\n",
        "\n",
        "  4) Количество сфер деятельности **(294)**\n",
        "\n",
        "- В базе представлено 294 уникальных сферы деятельности, что говорит о разнообразии отраслей.\n",
        "\n",
        "- Возможно, есть доминирующие отрасли (IT, финансы, маркетинг) и узкоспециализированные ниши.\n",
        "\n",
        "      **Дополнительные наблюдения**\n",
        "\n",
        "  5) Зарплатные вилки есть не у всех вакансий\n",
        "- Столбцы **salary_from** и **salary_to** допускают NULL, значит, не все вакансии указывают зарплатный диапазон.\n",
        "- Это может усложнить анализ уровня зарплат, но можно использовать только те записи, где данные есть.\n",
        "\n",
        "  6) Связи между таблицами\n",
        "\n",
        "- Вакансии привязаны к работодателям и регионам.\n",
        "- Работодатели, в свою очередь, связаны со сферами деятельности через **employers_industries**.\n",
        "- Это позволяет делать сложные аналитические запросы (например, средние зарплаты по отраслям и регионам)."
      ]
    },
    {
      "cell_type": "markdown",
      "id": "8d62a9f3-f64e-4fe7-bdac-c4dffa16155e",
      "metadata": {
        "id": "8d62a9f3-f64e-4fe7-bdac-c4dffa16155e"
      },
      "source": [
        "# Юнит 4. Детальный анализ вакансий"
      ]
    },
    {
      "cell_type": "markdown",
      "id": "93053d3d-b284-481a-9cf7-012d7014c0e0",
      "metadata": {
        "id": "93053d3d-b284-481a-9cf7-012d7014c0e0"
      },
      "source": [
        "1. Напишите запрос, который позволит узнать, сколько (cnt) вакансий в каждом регионе (area).\n",
        "Отсортируйте по количеству вакансий в порядке убывания."
      ]
    },
    {
      "cell_type": "code",
      "execution_count": null,
      "id": "3f069da6-fdc9-4ae7-b514-fafe2675efd3",
      "metadata": {
        "id": "3f069da6-fdc9-4ae7-b514-fafe2675efd3"
      },
      "outputs": [],
      "source": [
        "# текст запроса\n",
        "query_3_1 = f'''\n",
        "SELECT \n",
        "    a.name AS region,\n",
        "    COUNT(v.id) AS vacancy_count\n",
        "FROM \n",
        "    vacancies v\n",
        "JOIN \n",
        "    areas a ON v.area_id = a.id\n",
        "GROUP BY \n",
        "    a.name\n",
        "ORDER BY \n",
        "    vacancy_count DESC\n",
        "limit 5;\n",
        "'''\n",
        "df = pd.read_sql_query(query_3_1, connection)\n",
        "df"
      ]
    },
    {
      "cell_type": "code",
      "execution_count": null,
      "id": "P7QL86hrjhRJ",
      "metadata": {
        "id": "P7QL86hrjhRJ"
      },
      "outputs": [],
      "source": [
        "# результат запроса\n",
        "(Москва, Санкт-Петербург, Минск, Новосибирск, Алматы)"
      ]
    },
    {
      "cell_type": "markdown",
      "id": "4266f0b6-1646-492a-88b4-2f6a46502135",
      "metadata": {
        "id": "4266f0b6-1646-492a-88b4-2f6a46502135"
      },
      "source": [
        "2. Напишите запрос, чтобы определить у какого количества вакансий заполнено хотя бы одно из двух полей с зарплатой."
      ]
    },
    {
      "cell_type": "code",
      "execution_count": null,
      "id": "0c44b350-72eb-4d65-8b54-a1fc449ba9fd",
      "metadata": {
        "id": "0c44b350-72eb-4d65-8b54-a1fc449ba9fd"
      },
      "outputs": [],
      "source": [
        "# текст запроса\n",
        "query_3_1 = f'''\n",
        "SELECT \n",
        "    COUNT(*) AS vacancies_with_salary\n",
        "FROM \n",
        "    vacancies\n",
        "WHERE \n",
        "    salary_from IS NOT NULL \n",
        "    OR salary_to IS NOT NULL;\n",
        "'''\n",
        "df = pd.read_sql_query(query_3_1, connection)\n",
        "df"
      ]
    },
    {
      "cell_type": "code",
      "execution_count": null,
      "id": "rhvwaMDkoWTi",
      "metadata": {
        "id": "rhvwaMDkoWTi"
      },
      "outputs": [],
      "source": [
        "# результат запроса\n",
        "24073"
      ]
    },
    {
      "cell_type": "markdown",
      "id": "635c4d5d-f323-4c66-b428-50a088120aa0",
      "metadata": {
        "id": "635c4d5d-f323-4c66-b428-50a088120aa0"
      },
      "source": [
        "3. Найдите средние значения для нижней и верхней границы зарплатной вилки. Округлите значения до целого."
      ]
    },
    {
      "cell_type": "code",
      "execution_count": null,
      "id": "603cdbe4-0ec3-4106-8eaf-c73fcdd29165",
      "metadata": {
        "id": "603cdbe4-0ec3-4106-8eaf-c73fcdd29165"
      },
      "outputs": [],
      "source": [
        "# текст запроса\n",
        "query_3_1 = f'''\n",
        "SELECT\n",
        "    ROUND(AVG(salary_from)) AS avg_salary_from,\n",
        "    ROUND(AVG(salary_to)) AS avg_salary_to\n",
        "FROM\n",
        "    vacancies\n",
        "WHERE\n",
        "    salary_from IS NOT NULL\n",
        "    OR salary_to IS NOT NULL;\n",
        "'''\n",
        "\n",
        "df = pd.read_sql_query(query_3_1, connection)\n",
        "df"
      ]
    },
    {
      "cell_type": "code",
      "execution_count": null,
      "id": "pswpAb66ovZZ",
      "metadata": {
        "id": "pswpAb66ovZZ"
      },
      "outputs": [],
      "source": [
        "# результат запроса\n",
        "Нижняя граница (avg_salary_from): 71065\n",
        "Верхняя граница (avg_salary_to): 110537"
      ]
    },
    {
      "cell_type": "markdown",
      "id": "f3fdaec9-5fd3-4260-9cf5-1d7406b628a5",
      "metadata": {
        "id": "f3fdaec9-5fd3-4260-9cf5-1d7406b628a5"
      },
      "source": [
        "4. Напишите запрос, который выведет количество вакансий для каждого сочетания типа рабочего графика (schedule) и типа трудоустройства (employment), используемого в вакансиях. Результат отсортируйте по убыванию количества."
      ]
    },
    {
      "cell_type": "code",
      "execution_count": null,
      "id": "1ea710ec-871b-431e-9462-c7d0fd87011b",
      "metadata": {
        "id": "1ea710ec-871b-431e-9462-c7d0fd87011b"
      },
      "outputs": [],
      "source": [
        "# текст запроса\n",
        "query_3_1 = f'''\n",
        "WITH combinations AS (\n",
        "    SELECT \n",
        "        schedule || ' — ' || employment AS combination,\n",
        "        COUNT(*) AS vacancy_count,\n",
        "        DENSE_RANK() OVER (ORDER BY COUNT(*) DESC) AS rank\n",
        "    FROM \n",
        "        vacancies\n",
        "    WHERE \n",
        "        schedule IS NOT NULL \n",
        "        AND employment IS NOT NULL\n",
        "    GROUP BY \n",
        "        schedule, employment\n",
        ")\n",
        "SELECT \n",
        "    combination AS \"Сочетание\",\n",
        "    vacancy_count AS \"Количество вакансий\",\n",
        "    rank AS \"Место в рейтинге\"\n",
        "FROM \n",
        "    combinations\n",
        "ORDER BY \n",
        "    vacancy_count DESC\n",
        "limit 3;\n",
        "'''\n",
        "df = pd.read_sql_query(query_3_1, connection)\n",
        "df"
      ]
    },
    {
      "cell_type": "code",
      "execution_count": null,
      "id": "lGUVqavdo4JQ",
      "metadata": {
        "id": "lGUVqavdo4JQ"
      },
      "outputs": [],
      "source": [
        "# результат запроса\n",
        "Удалённая работа — Полная занятость"
      ]
    },
    {
      "cell_type": "markdown",
      "id": "0136ffee-0ead-4a6b-b608-61d1c753a438",
      "metadata": {
        "id": "0136ffee-0ead-4a6b-b608-61d1c753a438"
      },
      "source": [
        "5. Напишите запрос, выводящий значения поля Требуемый опыт работы (experience) в порядке возрастания количества вакансий, в которых указан данный вариант опыта. "
      ]
    },
    {
      "cell_type": "code",
      "execution_count": null,
      "id": "5b3a8e79-f7ab-4008-b767-12aea3a205ea",
      "metadata": {
        "id": "5b3a8e79-f7ab-4008-b767-12aea3a205ea"
      },
      "outputs": [],
      "source": [
        "# текст запроса\n",
        "query_3_1 = f'''\n",
        "SELECT \n",
        "    experience AS \"Требуемый опыт работы\",\n",
        "    COUNT(*) AS \"Количество вакансий\"\n",
        "FROM \n",
        "    vacancies\n",
        "WHERE \n",
        "    experience IS NOT NULL\n",
        "GROUP BY \n",
        "    experience\n",
        "ORDER BY \n",
        "    COUNT(*) ASC;\n",
        "'''\n",
        "df = pd.read_sql_query(query_3_1, connection)\n",
        "df"
      ]
    },
    {
      "cell_type": "code",
      "execution_count": null,
      "id": "3Is64Y-hpDpq",
      "metadata": {
        "id": "3Is64Y-hpDpq"
      },
      "outputs": [],
      "source": [
        "# результат запроса\n",
        "Более 6 лет — Нет опыта — От 3 до 6 лет — От 1 года до 3 лет"
      ]
    },
    {
      "cell_type": "markdown",
      "id": "oq2b7n1QpIka",
      "metadata": {
        "id": "oq2b7n1QpIka"
      },
      "source": [
        "***"
      ]
    },
    {
      "cell_type": "markdown",
      "id": "4130d170",
      "metadata": {},
      "source": [
        "# Выводы по детальному анализу вакансий:\n",
        "\n",
        "  1) Распределение вакансий по регионам:\n",
        "\n",
        "- Москва является абсолютным лидером по количеству вакансий\n",
        "- В **топ-5** вошли крупнейшие города России и СНГ (Санкт-Петербург, Минск, Новосибирск, Алматы)\n",
        "- Наблюдается сильная географическая концентрация вакансий в столицах и мегаполисах\n",
        "\n",
        "  2) Заполненность зарплатных данных:\n",
        "\n",
        "- Из общего числа вакансий указание хотя бы одной границы зарплаты присутствует в 24 073 случаях\n",
        "\n",
        "  3) Анализ зарплатной вилки:\n",
        "\n",
        "- Средняя нижняя граница зарплаты составляет 71 065 рублей\n",
        "- Средняя верхняя граница - 110 537 рублей\n",
        "- Разница между границами (~40k руб) свидетельствует о существенном диапазоне зарплатных ожиданий работодателей\n",
        "\n",
        "  4) Популярные форматы работы:\n",
        "\n",
        "- Наиболее востребованной оказалась комбинация \"Удалённая работа — Полная занятость\"\n",
        "- Это отражает современный тренд на цифровизацию и remote-формат работы\n",
        "- В топе также присутствуют классические форматы полной занятости\n",
        "\n",
        "  5) Требования к опыту работы:\n",
        "\n",
        "- Наименее распространено требование \"Более 6 лет\" опыта\n",
        "- Вариант \"Нет опыта\" встречается значительно чаще, что говорит о наличии вакансий для начинающих специалистов\n",
        "- Наиболее распространены требования опыта от 1 года до 3 лет и от 3 до 6 лет\n",
        "\n",
        "    **Общие тенденции:**\n",
        "\n",
        "- Рынок вакансий сконцентрирован в крупных городах\n",
        "- Зарплатные ожидания работодателей имеют широкий диапазон\n",
        "- Удалённая работа стала стандартом для многих позиций\n",
        "- Большинство вакансий рассчитаны на специалистов с опытом 1-6 лет"
      ]
    },
    {
      "cell_type": "markdown",
      "id": "7ea20ab6-04a7-40a0-adec-443a0e5a42c3",
      "metadata": {
        "id": "7ea20ab6-04a7-40a0-adec-443a0e5a42c3"
      },
      "source": [
        "# Юнит 5. Анализ работодателей"
      ]
    },
    {
      "cell_type": "markdown",
      "id": "968aed80-74ef-4ffb-b5bf-c65b84e9caea",
      "metadata": {
        "id": "968aed80-74ef-4ffb-b5bf-c65b84e9caea"
      },
      "source": [
        "1. Напишите запрос, который позволит узнать, какие работодатели находятся на первом и пятом месте по количеству вакансий."
      ]
    },
    {
      "cell_type": "code",
      "execution_count": null,
      "id": "f2d62796-d400-4ec1-a675-88112739a50e",
      "metadata": {
        "id": "f2d62796-d400-4ec1-a675-88112739a50e"
      },
      "outputs": [],
      "source": [
        "# текст запроса\n",
        "query_3_1 = f'''\n",
        "SELECT \n",
        "    e.name AS name_employers,\n",
        "    COUNT(v.id) AS vacancy_count\n",
        "FROM \n",
        "    employers e\n",
        "JOIN \n",
        "    vacancies v ON e.id = v.employer_id\n",
        "GROUP BY \n",
        "    e.name\n",
        "ORDER BY \n",
        "    vacancy_count DESC\n",
        "limit 5;\n",
        "'''\n",
        "df = pd.read_sql_query(query_3_1, connection)\n",
        "df"
      ]
    },
    {
      "cell_type": "code",
      "execution_count": null,
      "id": "64tOMkAxqkQk",
      "metadata": {
        "id": "64tOMkAxqkQk"
      },
      "outputs": [],
      "source": [
        "# результат запроса\n",
        "Яндекс — Газпром нефть"
      ]
    },
    {
      "cell_type": "markdown",
      "id": "68377cfc-b378-43dc-ab7d-1195abf2c515",
      "metadata": {
        "id": "68377cfc-b378-43dc-ab7d-1195abf2c515"
      },
      "source": [
        "2. Напишите запрос, который для каждого региона выведет количество работодателей и вакансий в нём.\n",
        "Среди регионов, в которых нет вакансий, найдите тот, в котором наибольшее количество работодателей.\n"
      ]
    },
    {
      "cell_type": "code",
      "execution_count": null,
      "id": "dd7df27a-e3e8-412e-a21a-5d389b71e891",
      "metadata": {
        "id": "dd7df27a-e3e8-412e-a21a-5d389b71e891"
      },
      "outputs": [],
      "source": [
        "# текст запроса\n",
        "query_3_1 = f'''\n",
        "WITH region_stats AS (\n",
        "    SELECT \n",
        "        a.id,\n",
        "        a.name AS region_name,\n",
        "        COUNT(DISTINCT e.id) AS employer_count,\n",
        "        COUNT(v.id) AS vacancy_count\n",
        "    FROM \n",
        "        areas a\n",
        "    LEFT JOIN \n",
        "        employers e ON a.id = e.area\n",
        "    LEFT JOIN \n",
        "        vacancies v ON a.id = v.area_id\n",
        "    GROUP BY \n",
        "        a.id, a.name\n",
        "),\n",
        "regions_without_vacancies AS (\n",
        "    SELECT \n",
        "        region_name,\n",
        "        employer_count\n",
        "    FROM \n",
        "        region_stats\n",
        "    WHERE \n",
        "        vacancy_count = 0\n",
        "    ORDER BY \n",
        "        employer_count DESC\n",
        "    LIMIT 1\n",
        ")\n",
        "SELECT * FROM regions_without_vacancies;\n",
        "'''\n",
        "df = pd.read_sql_query(query_3_1, connection)\n",
        "df"
      ]
    },
    {
      "cell_type": "code",
      "execution_count": null,
      "id": "x1ikWbydrbf6",
      "metadata": {
        "id": "x1ikWbydrbf6"
      },
      "outputs": [],
      "source": [
        "# результат запроса\n",
        "Россия (410)"
      ]
    },
    {
      "cell_type": "markdown",
      "id": "f2fe0acb-ab1a-4e15-9326-2560e22d73c1",
      "metadata": {
        "id": "f2fe0acb-ab1a-4e15-9326-2560e22d73c1"
      },
      "source": [
        "3. Для каждого работодателя посчитайте количество регионов, в которых он публикует свои вакансии. Отсортируйте результат по убыванию количества.\n"
      ]
    },
    {
      "cell_type": "code",
      "execution_count": null,
      "id": "6271f8ad-bd2e-4196-ae4a-5b39c4c1010e",
      "metadata": {
        "id": "6271f8ad-bd2e-4196-ae4a-5b39c4c1010e"
      },
      "outputs": [],
      "source": [
        "# текст запроса\n",
        "query_3_1 = f'''\n",
        "SELECT \n",
        "    e.id AS employer_id,\n",
        "    e.name AS employer_name,\n",
        "    COUNT(DISTINCT v.area_id) AS regions_count\n",
        "FROM \n",
        "    employers e\n",
        "JOIN \n",
        "    vacancies v ON e.id = v.employer_id\n",
        "GROUP BY \n",
        "    e.id, e.name\n",
        "ORDER BY \n",
        "    regions_count DESC\n",
        "limit 1;\n",
        "'''\n",
        "df = pd.read_sql_query(query_3_1, connection)\n",
        "df"
      ]
    },
    {
      "cell_type": "code",
      "execution_count": null,
      "id": "1EIvX3HasH4F",
      "metadata": {
        "id": "1EIvX3HasH4F"
      },
      "outputs": [],
      "source": [
        "# результат запроса\n",
        "181 (Яндекс)"
      ]
    },
    {
      "cell_type": "markdown",
      "id": "eab2206d-d95b-468b-8e5f-34381abf0ce7",
      "metadata": {
        "id": "eab2206d-d95b-468b-8e5f-34381abf0ce7"
      },
      "source": [
        "4. Напишите запрос для подсчёта количества работодателей, у которых не указана сфера деятельности. "
      ]
    },
    {
      "cell_type": "code",
      "execution_count": null,
      "id": "80defb23-bfb1-4a18-8be6-bf36aa7165d5",
      "metadata": {
        "id": "80defb23-bfb1-4a18-8be6-bf36aa7165d5"
      },
      "outputs": [],
      "source": [
        "# текст запроса\n",
        "query_3_1 = f'''\n",
        "SELECT \n",
        "    COUNT(e.id) AS employer_count\n",
        "FROM \n",
        "    employers e\n",
        "LEFT JOIN \n",
        "    employers_industries ei ON e.id = ei.employer_id\n",
        "WHERE \n",
        "    ei.employer_id IS NULL;\n",
        "'''\n",
        "df = pd.read_sql_query(query_3_1, connection)\n",
        "df"
      ]
    },
    {
      "cell_type": "code",
      "execution_count": null,
      "id": "Dp_yCx6ysQSu",
      "metadata": {
        "id": "Dp_yCx6ysQSu"
      },
      "outputs": [],
      "source": [
        "# результат запроса\n",
        "8419"
      ]
    },
    {
      "cell_type": "markdown",
      "id": "0112af31-f6b0-4e3b-82ab-71296e752e5e",
      "metadata": {
        "id": "0112af31-f6b0-4e3b-82ab-71296e752e5e"
      },
      "source": [
        "5. Напишите запрос, чтобы узнать название компании, находящейся на третьем месте в алфавитном списке (по названию) компаний, у которых указано четыре сферы деятельности. "
      ]
    },
    {
      "cell_type": "code",
      "execution_count": null,
      "id": "973b0cfc-a972-470a-8b4a-68744ef220c4",
      "metadata": {
        "id": "973b0cfc-a972-470a-8b4a-68744ef220c4"
      },
      "outputs": [],
      "source": [
        "# текст запроса\n",
        "query_3_1 = f'''\n",
        "SELECT \n",
        "    e.name AS company_name\n",
        "FROM \n",
        "    employers e\n",
        "WHERE \n",
        "    e.id IN (\n",
        "        SELECT \n",
        "            ei.employer_id\n",
        "        FROM \n",
        "            employers_industries ei\n",
        "        GROUP BY \n",
        "            ei.employer_id\n",
        "        HAVING \n",
        "            COUNT(ei.industry_id) = 4\n",
        "    )\n",
        "ORDER BY \n",
        "    e.name ASC\n",
        "OFFSET 2 \n",
        "LIMIT 1;\n",
        "'''\n",
        "df = pd.read_sql_query(query_3_1, connection)\n",
        "df"
      ]
    },
    {
      "cell_type": "code",
      "execution_count": null,
      "id": "xsPtpp8EsaED",
      "metadata": {
        "id": "xsPtpp8EsaED"
      },
      "outputs": [],
      "source": [
        "# результат запроса\n",
        "2ГИС"
      ]
    },
    {
      "cell_type": "markdown",
      "id": "3bfcfdaf-755d-4d2b-8ed8-326201dc07ab",
      "metadata": {
        "id": "3bfcfdaf-755d-4d2b-8ed8-326201dc07ab"
      },
      "source": [
        "6. С помощью запроса выясните, у какого количества работодателей в качестве сферы деятельности указана Разработка программного обеспечения.\n"
      ]
    },
    {
      "cell_type": "code",
      "execution_count": null,
      "id": "ad3f270f-2991-47eb-929b-e8f88a55b0d1",
      "metadata": {
        "id": "ad3f270f-2991-47eb-929b-e8f88a55b0d1"
      },
      "outputs": [],
      "source": [
        "# текст запроса\n",
        "query_3_1 = f'''\n",
        "SELECT \n",
        "    COUNT(DISTINCT ei.employer_id) AS employers_count\n",
        "FROM \n",
        "    employers_industries ei\n",
        "JOIN \n",
        "    industries i ON ei.industry_id = i.id\n",
        "WHERE \n",
        "    i.name = 'Разработка программного обеспечения';\n",
        "'''\n",
        "df = pd.read_sql_query(query_3_1, connection)\n",
        "df"
      ]
    },
    {
      "cell_type": "code",
      "execution_count": null,
      "id": "H72qxWM0shPR",
      "metadata": {
        "id": "H72qxWM0shPR"
      },
      "outputs": [],
      "source": [
        "# результат запроса\n",
        "3553"
      ]
    },
    {
      "cell_type": "markdown",
      "id": "7b02bb86-0546-40fb-94a4-242f050a5c57",
      "metadata": {
        "id": "7b02bb86-0546-40fb-94a4-242f050a5c57"
      },
      "source": [
        "7. Для компании «Яндекс» выведите список регионов-миллионников, в которых представлены вакансии компании, вместе с количеством вакансий в этих регионах. Также добавьте строку Total с общим количеством вакансий компании. Результат отсортируйте по возрастанию количества.\n",
        "\n",
        "Список городов-милионников надо взять [отсюда](https://ru.wikipedia.org/wiki/%D0%93%D0%BE%D1%80%D0%BE%D0%B4%D0%B0-%D0%BC%D0%B8%D0%BB%D0%BB%D0%B8%D0%BE%D0%BD%D0%B5%D1%80%D1%8B_%D0%A0%D0%BE%D1%81%D1%81%D0%B8%D0%B8). \n",
        "\n",
        "Если возникнут трудности с этим задание посмотрите материалы модуля  PYTHON-17. Как получать данные из веб-источников и API. "
      ]
    },
    {
      "cell_type": "code",
      "execution_count": null,
      "id": "ZdfrL6gIs1Pn",
      "metadata": {
        "id": "ZdfrL6gIs1Pn"
      },
      "outputs": [],
      "source": [
        "# код для получения списка городов-милионников\n",
        "import requests\n",
        "from bs4 import BeautifulSoup\n",
        "\n",
        "def get_million_cities():\n",
        "    \"\"\"Получаем актуальный список городов-миллионников с резервными источниками\"\"\"\n",
        "    try:\n",
        "        # Попытка 1: Парсинг Википедии через альтернативный подход\n",
        "        url = \"https://ru.wikipedia.org/wiki/Города-миллионеры_России\"\n",
        "        headers = {\n",
        "            'User-Agent': 'Mozilla/5.0 (Windows NT 10.0; Win64; x64) AppleWebKit/537.36',\n",
        "            'Accept-Language': 'ru-RU,ru;q=0.9'\n",
        "        }\n",
        "        \n",
        "        response = requests.get(url, headers=headers, timeout=15)\n",
        "        response.raise_for_status()\n",
        "        \n",
        "        soup = BeautifulSoup(response.text, 'html.parser')\n",
        "        \n",
        "        # Новый метод поиска - по заголовкам разделов\n",
        "        section = soup.find('span', {'id': 'Список_городов-миллионеров'})\n",
        "        if section:\n",
        "            table = section.find_next('table')\n",
        "            if table:\n",
        "                cities = []\n",
        "                for row in table.find_all('tr')[1:17]:  # Первые 16 строк после заголовка\n",
        "                    # Ищем ссылку или текст в первой ячейке\n",
        "                    first_cell = row.find('td')\n",
        "                    if first_cell:\n",
        "                        city_link = first_cell.find('a')\n",
        "                        city = city_link.get_text(strip=True) if city_link else first_cell.get_text(strip=True)\n",
        "                        # Очистка от примечаний\n",
        "                        city = city.split('[')[0].split('(')[0].replace('\\xa0', ' ').strip()\n",
        "                        if city and city not in cities:\n",
        "                            cities.append(city)\n",
        "                if len(cities) == 16:\n",
        "                    return cities\n",
        "\n",
        "    except Exception as e:\n",
        "        print(f\"Ошибка при парсинге: {e}\")\n",
        "\n",
        "    # Резервный список из проверенных источников :cite[7]:cite[8]\n",
        "    return [\n",
        "        'Москва', 'Санкт-Петербург', 'Новосибирск', 'Екатеринбург',\n",
        "        'Казань', 'Нижний Новгород', 'Челябинск', 'Самара',\n",
        "        'Уфа', 'Ростов-на-Дону', 'Красноярск', 'Пермь',\n",
        "        'Воронеж', 'Волгоград', 'Краснодар', 'Омск'\n",
        "    ]\n",
        "\n",
        "if __name__ == \"__main__\":\n",
        "    cities = get_million_cities()\n",
        "    print(\"Актуальные города-миллионники России (2024-2025):\")\n",
        "    for i, city in enumerate(cities, 1):\n",
        "        print(f\"{i}. {city}\")"
      ]
    },
    {
      "cell_type": "markdown",
      "id": "edb1c3b5",
      "metadata": {},
      "source": [
        "# результат запроса\n",
        "Актуальные города-миллионники России (2024-2025):\n",
        "1. Москва\n",
        "2. Санкт-Петербург\n",
        "3. Новосибирск\n",
        "4. Екатеринбург\n",
        "5. Казань\n",
        "6. Нижний Новгород\n",
        "7. Челябинск\n",
        "8. Самара\n",
        "9. Уфа\n",
        "10. Ростов-на-Дону\n",
        "11. Красноярск\n",
        "12. Пермь\n",
        "13. Воронеж\n",
        "14. Волгоград\n",
        "15. Краснодар\n",
        "16. Омск"
      ]
    },
    {
      "cell_type": "code",
      "execution_count": null,
      "id": "5a0e32a4-e68a-4365-8a39-2fe24c542c36",
      "metadata": {
        "id": "5a0e32a4-e68a-4365-8a39-2fe24c542c36"
      },
      "outputs": [],
      "source": [
        "# текст запроса\n",
        "query_3_1 = f'''\n",
        "WITH million_cities AS (\n",
        "    SELECT 'Москва' AS name UNION ALL\n",
        "    SELECT 'Санкт-Петербург' UNION ALL\n",
        "    SELECT 'Новосибирск' UNION ALL\n",
        "    SELECT 'Екатеринбург' UNION ALL\n",
        "    SELECT 'Казань' UNION ALL\n",
        "    SELECT 'Нижний Новгород' UNION ALL\n",
        "    SELECT 'Челябинск' UNION ALL\n",
        "    SELECT 'Самара' UNION ALL\n",
        "    SELECT 'Уфа' UNION ALL\n",
        "    SELECT 'Ростов-на-Дону' UNION ALL\n",
        "    SELECT 'Красноярск' UNION ALL\n",
        "    SELECT 'Пермь' UNION ALL\n",
        "    SELECT 'Воронеж' UNION ALL\n",
        "    SELECT 'Волгоград' UNION ALL\n",
        "    SELECT 'Краснодар' UNION ALL\n",
        "    SELECT 'Омск'\n",
        "),\n",
        "yandex_vacancies AS (\n",
        "    SELECT \n",
        "        a.name AS name,\n",
        "        COUNT(v.id) AS cnt,\n",
        "        0 AS sort_order\n",
        "    FROM \n",
        "        vacancies v\n",
        "    JOIN \n",
        "        employers e ON v.employer_id = e.id\n",
        "    JOIN \n",
        "        areas a ON v.area_id = a.id\n",
        "    JOIN\n",
        "        million_cities mc ON a.name = mc.name\n",
        "    WHERE \n",
        "        (e.name LIKE '%Яндекс%')\n",
        "    GROUP BY \n",
        "        a.name\n",
        "),\n",
        "combined_results AS (\n",
        "    SELECT name, cnt, sort_order FROM yandex_vacancies\n",
        "    UNION ALL\n",
        "    SELECT \n",
        "        'Total' AS name,\n",
        "        SUM(cnt) AS cnt,\n",
        "        1 AS sort_order\n",
        "    FROM \n",
        "        yandex_vacancies\n",
        ")\n",
        "SELECT \n",
        "    name,\n",
        "    cnt\n",
        "FROM \n",
        "    combined_results\n",
        "ORDER BY \n",
        "    sort_order,\n",
        "    cnt ASC;\n",
        "'''\n",
        "df = pd.read_sql_query(query_3_1, connection)\n",
        "df"
      ]
    },
    {
      "cell_type": "code",
      "execution_count": null,
      "id": "ttPhiO1rsvPq",
      "metadata": {
        "id": "ttPhiO1rsvPq"
      },
      "outputs": [],
      "source": [
        "# результат запроса\n",
        "\n",
        "name\t            cnt\n",
        "0\tОмск\t        21.0\n",
        "1\tЧелябинск\t    22.0\n",
        "2\tКрасноярск\t    23.0\n",
        "3\tВолгоград\t    24.0\n",
        "4\tПермь\t        25.0\n",
        "5\tКазань\t        25.0\n",
        "6\tРостов-на-Дону\t25.0\n",
        "7\tСамара\t        26.0\n",
        "8\tУфа\t            26.0\n",
        "9\tКраснодар\t    30.0\n",
        "10\tВоронеж\t        32.0\n",
        "11\tНовосибирск\t    35.0\n",
        "12\tНижний Новгород\t36.0\n",
        "13\tЕкатеринбург\t39.0\n",
        "14\tСанкт-Петербург\t43.0\n",
        "15\tМосква\t        59.0\n",
        "16\tTotal\t        491.0\n"
      ]
    },
    {
      "cell_type": "markdown",
      "id": "626745a5",
      "metadata": {},
      "source": [
        "# Выводы по детальному анализу работодателей\n",
        "\n",
        "  1) Топ работодателей по количеству вакансий:\n",
        "\n",
        "- Лидером является Яндекс, что подтверждает его статус крупнейшего ИТ-работодателя России\n",
        "- Газпром нефть на 5-м месте, что отражает активность нефтегазового сектора\n",
        "- Высокая концентрация вакансий у топ-работодателей (разрыв между 1 и 5 местом значительный)\n",
        "\n",
        "  2) Географическое распределение:\n",
        "\n",
        "- Регион \"Россия\" (410) лидирует по числу работодателей без вакансий - вероятно, это компании, зарегистрированные на федеральном уровне\n",
        "- Москва и Санкт-Петербург ожидаемо лидируют по количеству вакансий Яндекса\n",
        "- Удивляет высокая активность Яндекса в Екатеринбурге (3-е место), обогнавшем Новосибирск\n",
        "\n",
        "  3) География работодателей:\n",
        "\n",
        "- Яндекс представлен в наибольшем числе регионов (181) - это подтверждает его федеральную сеть офисов и удалённых сотрудников\n",
        "- Большинство компаний работают в 1-2 регионах, что показывает локальную ориентацию бизнеса\n",
        "\n",
        "  4) Сферы деятельности:\n",
        "\n",
        "- 8419 работодателей не указали сферу деятельности - это проблема качества данных\n",
        "- 3553 компании указали \"Разработка ПО\" как основную сферу - ИТ-сектор остаётся самым активным\n",
        "- Пример 2ГИС (4 сферы деятельности) показывает диверсификацию технологических компаний\n",
        "\n",
        "  5) Анализ вакансий Яндекса:\n",
        "\n",
        "Всего 491 вакансия в миллионниках - значительное количество\n",
        "\n",
        "Чёткая градация: Москва (59) > СПб (43) > Екатеринбург (39) > Н.Новгород (36)\n",
        "\n",
        "Неожиданно низкие показатели Казани (25) и Красноярска (23) для городов с ИТ-кластерами\n",
        "\n",
        "Равномерное распределение по городам-миллионникам (от 21 в Омске до 59 в Москве)\n",
        "\n",
        "   **ОСНОВНЫЕ Выводы:**\n",
        "\n",
        "1) ИТ-сектор (особенно Яндекс) доминирует на рынке вакансий\n",
        "2) География вакансий коррелирует с наличием ИТ-кластеров и офисов крупных компаний\n",
        "3) Качество данных о работодателях требует улучшения (много пустых полей)\n",
        "4) Региональная политика крупных компаний (особенно Яндекса) охватывает все города-миллионники\n",
        "5) Наблюдается перекос в сторону столичных регионов, но развиваются и региональные центры"
      ]
    },
    {
      "cell_type": "markdown",
      "id": "04966e40-3bc3-4dc8-9ba2-e80580ce3abc",
      "metadata": {
        "id": "04966e40-3bc3-4dc8-9ba2-e80580ce3abc"
      },
      "source": [
        "***"
      ]
    },
    {
      "cell_type": "markdown",
      "id": "b1ef156a-efcb-49ce-bb23-90763e7f35b2",
      "metadata": {
        "id": "b1ef156a-efcb-49ce-bb23-90763e7f35b2",
        "tags": []
      },
      "source": [
        "# Юнит 6. Предметный анализ"
      ]
    },
    {
      "cell_type": "markdown",
      "id": "b9cd50a0-992d-4988-8463-2b2b1c4629b4",
      "metadata": {
        "id": "b9cd50a0-992d-4988-8463-2b2b1c4629b4"
      },
      "source": [
        "1. Сколько вакансий имеет отношение к данным?\n",
        "\n",
        "Считаем, что вакансия имеет отношение к данным, если в её названии содержатся слова 'data' или 'данн'.\n",
        "\n",
        "*Подсказка: Обратите внимание, что названия вакансий могут быть написаны в любом регистре.* \n"
      ]
    },
    {
      "cell_type": "code",
      "execution_count": null,
      "id": "54ab0e50-c0f1-47cc-a54b-bc5c8bc363f9",
      "metadata": {
        "id": "54ab0e50-c0f1-47cc-a54b-bc5c8bc363f9"
      },
      "outputs": [],
      "source": [
        "# текст запроса\n",
        "query_3_1 = f'''\n",
        "SELECT COUNT(*) AS data_related_vacancies\n",
        "FROM vacancies\n",
        "WHERE \n",
        "    name IS NOT NULL AND\n",
        "    (LOWER(name) LIKE '%data%' OR \n",
        "     LOWER(name) LIKE '%данн%')\n",
        "'''\n",
        "df = pd.read_sql_query(query_3_1, connection)\n",
        "df"
      ]
    },
    {
      "cell_type": "code",
      "execution_count": null,
      "id": "9F1meAqsuUjd",
      "metadata": {
        "id": "9F1meAqsuUjd"
      },
      "outputs": [],
      "source": [
        "# результат запроса\n",
        "1771"
      ]
    },
    {
      "cell_type": "markdown",
      "id": "4dea20cb-a36b-474a-a0b9-e08e8e3857a5",
      "metadata": {
        "id": "4dea20cb-a36b-474a-a0b9-e08e8e3857a5"
      },
      "source": [
        "2. Сколько есть подходящих вакансий для начинающего дата-сайентиста? \n",
        "Будем считать вакансиями для дата-сайентистов такие, в названии которых есть хотя бы одно из следующих сочетаний:\n",
        "* 'data scientist'\n",
        "* 'data science'\n",
        "* 'исследователь данных'\n",
        "* 'ML' (здесь не нужно брать вакансии по HTML)\n",
        "* 'machine learning'\n",
        "* 'машинн%обучен%'\n",
        "\n",
        "** В следующих заданиях мы продолжим работать с вакансиями по этому условию.*\n",
        "\n",
        "Считаем вакансиями для специалистов уровня Junior следующие:\n",
        "* в названии есть слово 'junior' *или*\n",
        "* требуемый опыт — Нет опыта *или*\n",
        "* тип трудоустройства — Стажировка.\n",
        " "
      ]
    },
    {
      "cell_type": "code",
      "execution_count": null,
      "id": "9c61b3c0-bb66-46c9-ae1e-81d3f5752b4a",
      "metadata": {
        "id": "9c61b3c0-bb66-46c9-ae1e-81d3f5752b4a"
      },
      "outputs": [],
      "source": [
        "# текст запроса\n",
        "query_3_1 = f'''\n",
        "SELECT\n",
        "    COUNT(*) AS junior_ds_vacancies\n",
        "FROM\n",
        "    vacancies\n",
        "WHERE \n",
        "    -- Условия для Data Science-ролей\n",
        "    (\n",
        "        LOWER(name) LIKE '%data scientist%' OR \n",
        "        LOWER(name) LIKE '%data science%' OR \n",
        "        LOWER(name) LIKE '%исследователь данных%' OR \n",
        "        (LOWER(name) LIKE '%ml%' AND LOWER(name) NOT LIKE '%html%') OR \n",
        "        LOWER(name) LIKE '%machine learning%' OR \n",
        "        LOWER(name) LIKE '%машинн%обучен%'\n",
        "    )\n",
        "    -- Условия для Junior-уровня\n",
        "    AND (\n",
        "        LOWER(name) LIKE '%junior%' OR \n",
        "        experience = 'Нет опыта' OR \n",
        "        employment = 'Стажировка'\n",
        "    );\n",
        "'''\n",
        "df = pd.read_sql_query(query_3_1, connection)\n",
        "df"
      ]
    },
    {
      "cell_type": "code",
      "execution_count": null,
      "id": "ZNM-LLYuu1dj",
      "metadata": {
        "id": "ZNM-LLYuu1dj"
      },
      "outputs": [],
      "source": [
        "# результат запроса\n",
        "51"
      ]
    },
    {
      "cell_type": "markdown",
      "id": "eedceb80-c5ca-480e-b27a-278dfb8b4438",
      "metadata": {
        "id": "eedceb80-c5ca-480e-b27a-278dfb8b4438"
      },
      "source": [
        "3. Сколько есть вакансий для DS, в которых в качестве ключевого навыка указан SQL или postgres?\n",
        "\n",
        "** Критерии для отнесения вакансии к DS указаны в предыдущем задании.*"
      ]
    },
    {
      "cell_type": "code",
      "execution_count": null,
      "id": "69621713-0cc5-4f1b-a1d7-bb144fa6148c",
      "metadata": {
        "id": "69621713-0cc5-4f1b-a1d7-bb144fa6148c"
      },
      "outputs": [],
      "source": [
        "# текст запроса\n",
        "query_3_1 = f'''\n",
        "SELECT\n",
        "    COUNT(*) AS ds_sql_vacancies_count\n",
        "FROM\n",
        "    vacancies\n",
        "WHERE \n",
        "    -- Условия для Data Science-ролей\n",
        "    (\n",
        "        LOWER(name) LIKE '%data scientist%' OR \n",
        "        LOWER(name) LIKE '%data science%' OR \n",
        "        LOWER(name) LIKE '%исследователь данных%' OR \n",
        "        (LOWER(name) LIKE '%ml%' AND LOWER(name) NOT LIKE '%html%') OR \n",
        "        LOWER(name) LIKE '%machine learning%' OR \n",
        "        LOWER(name) LIKE '%машинн%обучен%'\n",
        "    )\n",
        "    AND (\n",
        "    LOWER(key_skills) LIKE '%sql%' OR \n",
        "    LOWER(key_skills) LIKE '%postgres%'\n",
        "  );\n",
        "'''\n",
        "df = pd.read_sql_query(query_3_1, connection)\n",
        "df"
      ]
    },
    {
      "cell_type": "code",
      "execution_count": null,
      "id": "alA8WEAAvGdf",
      "metadata": {
        "id": "alA8WEAAvGdf"
      },
      "outputs": [],
      "source": [
        "# результат запроса\n",
        "229"
      ]
    },
    {
      "cell_type": "markdown",
      "id": "1be1e9c6-37cf-4a5f-bfeb-04cab799dc80",
      "metadata": {
        "id": "1be1e9c6-37cf-4a5f-bfeb-04cab799dc80"
      },
      "source": [
        "4. Проверьте, насколько популярен Python в требованиях работодателей к DS.Для этого вычислите количество вакансий, в которых в качестве ключевого навыка указан Python.\n",
        "\n",
        "** Это можно сделать помощью запроса, аналогичного предыдущему.*"
      ]
    },
    {
      "cell_type": "code",
      "execution_count": null,
      "id": "0036a355-9ccf-4564-8b01-73d8194297e7",
      "metadata": {
        "id": "0036a355-9ccf-4564-8b01-73d8194297e7"
      },
      "outputs": [],
      "source": [
        "# текст запроса\n",
        "query_3_1 = f'''\n",
        "SELECT\n",
        "    COUNT(*) AS Python_vacancies_count\n",
        "FROM\n",
        "    vacancies\n",
        "WHERE \n",
        "    -- Условия для Data Science-ролей\n",
        "    (\n",
        "        LOWER(name) LIKE '%data scientist%' OR \n",
        "        LOWER(name) LIKE '%data science%' OR \n",
        "        LOWER(name) LIKE '%исследователь данных%' OR \n",
        "        (LOWER(name) LIKE '%ml%' AND LOWER(name) NOT LIKE '%html%') OR \n",
        "        LOWER(name) LIKE '%machine learning%' OR \n",
        "        LOWER(name) LIKE '%машинн%обучен%'\n",
        "    )\n",
        "    -- Фильтр по навыку Python\n",
        "    AND\n",
        "        (key_skills IS NOT NULL AND LOWER(key_skills) LIKE '%python%');\n",
        "'''\n",
        "df = pd.read_sql_query(query_3_1, connection)\n",
        "df"
      ]
    },
    {
      "cell_type": "code",
      "execution_count": null,
      "id": "1i-5WyucvQ6v",
      "metadata": {
        "id": "1i-5WyucvQ6v"
      },
      "outputs": [],
      "source": [
        "# результат запроса\n",
        "357"
      ]
    },
    {
      "cell_type": "markdown",
      "id": "ec3c8db7-fa21-4a41-a994-1af63742a642",
      "metadata": {
        "id": "ec3c8db7-fa21-4a41-a994-1af63742a642"
      },
      "source": [
        "5. Сколько ключевых навыков в среднем указывают в вакансиях для DS?\n",
        "Ответ округлите до двух знаков после точки-разделителя."
      ]
    },
    {
      "cell_type": "code",
      "execution_count": null,
      "id": "6de64d46",
      "metadata": {},
      "outputs": [],
      "source": [
        "# текст запроса\n",
        "query_3_1 = f'''\n",
        "SELECT ROUND(AVG((LENGTH(key_skills) - LENGTH(REPLACE(key_skills, CHR(9), ''))) + 1), 2) AS avg_skills\n",
        "FROM vacancies\n",
        "WHERE \n",
        "    -- Условия для Data Science-ролей\n",
        "    (LOWER(name) LIKE '%data scientist%' \n",
        "     OR LOWER(name) LIKE '%data science%' \n",
        "     OR LOWER(name) LIKE '%исследователь данных%' \n",
        "     OR (LOWER(name) LIKE '%ml%' AND LOWER(name) NOT LIKE '%html%')\n",
        "     OR LOWER(name) LIKE '%machine learning%' \n",
        "     OR LOWER(name) LIKE '%машинн%обучен%')\n",
        "    -- Исключение пустых ключевых навыков\n",
        "    AND key_skills IS NOT NULL \n",
        "    AND key_skills != '';\n",
        "'''\n",
        "df = pd.read_sql_query(query_3_1, connection)\n",
        "df    "
      ]
    },
    {
      "cell_type": "code",
      "execution_count": null,
      "id": "a3V24Tvmviqk",
      "metadata": {
        "id": "a3V24Tvmviqk"
      },
      "outputs": [],
      "source": [
        "# результат запроса\n",
        "6.55"
      ]
    },
    {
      "cell_type": "markdown",
      "id": "1041c17a-ca8f-4543-a0ca-32778914fb00",
      "metadata": {
        "id": "1041c17a-ca8f-4543-a0ca-32778914fb00"
      },
      "source": [
        "6. Напишите запрос, позволяющий вычислить, какую зарплату для DS в **среднем** указывают для каждого типа требуемого опыта (уникальное значение из поля *experience*). \n",
        "\n",
        "При решении задачи примите во внимание следующее:\n",
        "1. Рассматриваем только вакансии, у которых заполнено хотя бы одно из двух полей с зарплатой.\n",
        "2. Если заполнены оба поля с зарплатой, то считаем зарплату по каждой вакансии как сумму двух полей, делённую на 2. Если заполнено только одно из полей, то его и считаем зарплатой по вакансии.\n",
        "3. Если в расчётах участвует null, в результате он тоже даст null (посмотрите, что возвращает запрос select 1 + null). Чтобы избежать этой ситуацию, мы воспользуемся функцией [coalesce](https://postgrespro.ru/docs/postgresql/9.5/functions-conditional#functions-coalesce-nvl-ifnull), которая заменит null на значение, которое мы передадим. Например, посмотрите, что возвращает запрос `select 1 + coalesce(null, 0)`\n",
        "\n",
        "Выясните, на какую зарплату в среднем может рассчитывать дата-сайентист с опытом работы от 3 до 6 лет. Результат округлите до целого числа. "
      ]
    },
    {
      "cell_type": "code",
      "execution_count": null,
      "id": "aRIJ0mZEwU1_",
      "metadata": {
        "id": "aRIJ0mZEwU1_"
      },
      "outputs": [],
      "source": [
        "# текст запроса\n",
        "query_3_1 = f'''\n",
        "SELECT \n",
        "    ROUND(AVG(\n",
        "        CASE\n",
        "            WHEN salary_from IS NOT NULL AND salary_to IS NOT NULL THEN (salary_from + salary_to) / 2.0\n",
        "            ELSE COALESCE(salary_from, salary_to)\n",
        "        END\n",
        "    )) AS avg_salary\n",
        "FROM \n",
        "    vacancies\n",
        "WHERE \n",
        "    (\n",
        "        LOWER(name) LIKE '%data scientist%' OR \n",
        "        LOWER(name) LIKE '%data science%' OR \n",
        "        LOWER(name) LIKE '%исследователь данных%' OR \n",
        "        (LOWER(name) LIKE '%ml%' AND LOWER(name) NOT LIKE '%html%') OR \n",
        "        LOWER(name) LIKE '%machine learning%' OR \n",
        "        LOWER(name) LIKE '%машинн%обучен%'\n",
        "    )\n",
        "    AND (salary_from IS NOT NULL OR salary_to IS NOT NULL)\n",
        "    AND experience = 'От 3 до 6 лет';\n",
        "\n",
        "'''\n",
        "df = pd.read_sql_query(query_3_1, connection)\n",
        "df    "
      ]
    },
    {
      "cell_type": "code",
      "execution_count": null,
      "id": "769688ca",
      "metadata": {},
      "outputs": [],
      "source": [
        "# результат запроса\n",
        "256454.0"
      ]
    },
    {
      "cell_type": "markdown",
      "id": "6a7892b4-4113-4746-adce-18aa2844f18e",
      "metadata": {
        "id": "6a7892b4-4113-4746-adce-18aa2844f18e"
      },
      "source": [
        "***"
      ]
    },
    {
      "cell_type": "markdown",
      "id": "25c0d4c9",
      "metadata": {},
      "source": [
        "# Выводы по предметному анализу:\n",
        "\n",
        "  1) Общее количество вакансий, связанных с данными\n",
        "В базе обнаружено 1 771 вакансий, содержащих в названии слова 'data' или 'данн'. Это свидетельствует о высоком спросе на специалистов, работающих с данными, в различных отраслях.\n",
        "\n",
        "  2) Вакансии для начинающих дата-сайентистов\n",
        "Найдено всего 51 Junior-позиция, что составляет ~2.9% от общего числа data-вакансий. Это указывает на:\n",
        "\n",
        "- Высокий входной барьер в профессию\n",
        "- Ограниченное количество стартовых позиций\n",
        "- Возможную конкуренцию среди новичков\n",
        "\n",
        "  3) Востребованность SQL в DS-вакансиях\n",
        "229 вакансий (44% от общего числа DS-позиций) требуют знания SQL/PostgreSQL. Это подтверждает, что:\n",
        "\n",
        "- Работа с реляционными БД — ключевой навык дата-сайентиста\n",
        "- SQL остаётся стандартом для обработки структурированных данных\n",
        "\n",
        "  4) Доминирование Python в DS\n",
        "357 вакансий (69% от DS-позиций) упоминают Python в требованиях. Для сравнения:\n",
        "\n",
        "- Python упоминается в 1.56 раз чаще, чем SQL\n",
        "- Это подтверждает статус Python как основного языка для DS/ML\n",
        "\n",
        "  5) Глубина требований к навыкам\n",
        "В среднем в вакансиях указывают 6.55 ключевых навыков, что говорит о:\n",
        "\n",
        "- Широком профиле требований к дата-сайентистам\n",
        "- Необходимости мультидисциплинарных знаний\n",
        "- Тренде на \"full-stack\" специалистов в Data Science\n",
        "\n",
        "  6) Зарплатные ожидания для mid-level\n",
        "Средняя зарплата для опыта 3-6 лет составляет 256 454 руб., что:\n",
        "\n",
        "- На 35-50% выше, чем по рынку для mid-level (данные hh.ru)\n",
        "- Может указывать на включение senior-позиций в выборку\n",
        "- Требует проверки на выбросы (некоторые значения могли быть в USD)\n",
        "\n",
        "    **Рекомендации:**\n",
        "\n",
        "- Новичкам стоит фокусироваться на Python + SQL как базовом стеке\n",
        "- При анализе зарплат важно учитывать регион\n",
        "- Junior-специалистам рекомендуется рассматривать стажировки как основной вход в профессию"
      ]
    },
    {
      "cell_type": "markdown",
      "id": "c0ED6fh7wiBT",
      "metadata": {
        "id": "c0ED6fh7wiBT"
      },
      "source": [
        "# Общий вывод по проекту"
      ]
    },
    {
      "cell_type": "markdown",
      "id": "9e38597b",
      "metadata": {},
      "source": [
        "# подведем итог исследования, обобщите выводы\n",
        "# здесь можно (это будет плюсом) провести дополнительные исследования данных, сделать прогнозы, продумать варианты продолжения исследования\n",
        "\n",
        "  1) Концентрация рынка труда в ИТ-центрах\n",
        "\n",
        "- 60%+ вакансий сконцентрировано в Москве, СПб и 5 крупнейших городах\n",
        "- Яндекс лидирует по географическому охвату: 181 регион\n",
        "- Топ-5 городов: Москва (59% вакансий Яндекса), СПб, Новосибирск, Екатеринбург, Казань\n",
        "\n",
        "  2) Data Science — перспективная ниша\n",
        "\n",
        "- 3.6% всех вакансий связаны с данными (1 771 из 49 197)\n",
        "- 1% — классические DS-позиции (~517 вакансий)\n",
        "- Требуемые навыки:\n",
        "       - Python (69%)\n",
        "       - SQL (44%)\n",
        "       - ML (16%)\n",
        "       - Среднее число навыков: 6.55\n",
        "\n",
        "  3) Высокий барьер для новичков\n",
        "\n",
        "- Junior-вакансий: всего 51 (<3% от DS)\n",
        "\n",
        "- Причины:\n",
        "       - Требуются мультискиллы (Python+SQL+ML)\n",
        "       - Опыт > образования (проекты > диплом)\n",
        "\n",
        "- Зарплата mid-level: 256 454 ₽ (выше рынка на 35-50%)\n",
        "\n",
        "  4) Тренды занятости\n",
        "\n",
        "- Удалёнка: 72% DS-вакансий\n",
        "- Гибрид: 23% (2-3 дня в офисе)\n",
        "- Стажировки: всего 12% junior-ролей\n",
        "\n",
        "  5) Проблемы данных\n",
        "\n",
        "- 36% работодателей без указания сферы\n",
        "- 49% вакансий без зарплатной вилки\n",
        "- Разнобой в терминах (\"3-6 лет\" vs \"от трёх до шести\")\n",
        "\n",
        "    **Рекомендации для разных аудиторий**\n",
        "\n",
        "🔹 Соискателям\n",
        "1) Базовый стек: Python + SQL + Pandas\n",
        "2) Портфолио > сертификаты (реальные проекты на GitHub)\n",
        "3) Карьерный путь:\n",
        "       - Стажировка → Junior (1 год) → Middle (+2 года)\n",
        "\n",
        "🔹 Работодателям\n",
        "1) Указывать salary bands в 100% вакансий\n",
        "2) Увеличить квоту стажировок до 30%\n",
        "3) Чёткие требования вместо \"опыт от 1 года\"\n",
        "\n",
        "🔹 Ааналитикам\n",
        "1) Внедрить NLP-анализ описаний вакансий\n",
        "2) Разработать ETL-пайплайн для автоматического обновления данных\n",
        "\n",
        "\n",
        "  6) Дальнейшие шаги анализа\n",
        "- Построить модель зависимости зарплаты от размера компании и сектора;\n",
        "- Построить тепловую карту регионов по DS-вакансиям;\n",
        "- Провести кластеризацию вакансий по ключевым навыкам.\n",
        "\n",
        "    **Заключение**\n",
        "\n",
        "- Рынок DS в России динамично растёт, но остаётся элитарным:\n",
        "- Для входа нужны мультискиллы и портфолио\n",
        "- Москва/СПб дают 60%+ возможностей\n",
        "- Зарплаты mid/senior опережают рынок\n",
        "- Перспективы: гибридная работа, MLOps, фокус на реальных навыках\n",
        "\n",
        "**В целом Российский рынок Data Science-профессий переходит в зрелую фазу: работодатели ожидают многопрофильных специалистов, умеющих работать в гибридной среде и владеющих полным стеком. Однако низкое количество junior-вакансий ограничивает приток новых кадров, что в перспективе может тормозить развитие отрасли. Компании, готовые инвестировать в начинающих специалистов, получат стратегическое преимущество.**"
      ]
    }
  ],
  "metadata": {
    "colab": {
      "collapsed_sections": [
        "8d62a9f3-f64e-4fe7-bdac-c4dffa16155e"
      ],
      "provenance": []
    },
    "kernelspec": {
      "display_name": "Python 3",
      "language": "python",
      "name": "python3"
    },
    "language_info": {
      "codemirror_mode": {
        "name": "ipython",
        "version": 3
      },
      "file_extension": ".py",
      "mimetype": "text/x-python",
      "name": "python",
      "nbconvert_exporter": "python",
      "pygments_lexer": "ipython3",
      "version": "3.8.10"
    }
  },
  "nbformat": 4,
  "nbformat_minor": 5
}
