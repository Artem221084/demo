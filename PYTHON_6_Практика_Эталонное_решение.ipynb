{
  "cells": [
    {
      "cell_type": "markdown",
      "metadata": {
        "id": "view-in-github",
        "colab_type": "text"
      },
      "source": [
        "<a href=\"https://colab.research.google.com/github/Artem221084/demo/blob/main/PYTHON_6_%D0%9F%D1%80%D0%B0%D0%BA%D1%82%D0%B8%D0%BA%D0%B0_%D0%AD%D1%82%D0%B0%D0%BB%D0%BE%D0%BD%D0%BD%D0%BE%D0%B5_%D1%80%D0%B5%D1%88%D0%B5%D0%BD%D0%B8%D0%B5.ipynb\" target=\"_parent\"><img src=\"https://colab.research.google.com/assets/colab-badge.svg\" alt=\"Open In Colab\"/></a>"
      ]
    },
    {
      "cell_type": "markdown",
      "metadata": {
        "id": "3Qqn7FzDxc_u"
      },
      "source": [
        "# <center> Задачи с собеседований"
      ]
    },
    {
      "cell_type": "markdown",
      "metadata": {
        "id": "6M-5TGsA9L7c"
      },
      "source": [
        "### Задание №1\n",
        "\n",
        "#### Найти пересечение без дубликатов\n",
        "\n",
        "**Компания:** «Авито»\n",
        "\n",
        "**Уровень:** Лёгкий\n",
        "\n",
        "___\n",
        "\n",
        "Пользователь с клавиатуры (через функцию `input()`) вводит через запятую и пробел две последовательности чисел (некоторые идентификаторы товаров/услуг, просмотренных клиентом 'A' и клиентом 'B' на платформе «Авито»).\n",
        "\n",
        "Необходимо конвертировать каждый ввод пользователя в отдельный список, состоящий из целых чисел, а также составить новый список, состоящий из элементов пересечения двух исходных. Дубликаты необходимо удалить, а результирующий список — вывести на экран.\n",
        "\n",
        "**Важно!** Если пересечение пустое, то на экран должен выводиться пустой список.\n",
        "\n",
        "Если ввод пользователя невозможно конвертировать в список из целых чисел, возникает ошибка. Необходимо отлавливать эту ошибку и выводить на экран фразу `Некорректный ввод`.\n",
        "\n",
        "Для поиска пересечений в списках напишите функцию `pure_intersection()`, которая будет возвращать список с уникальными элементами пересечения.\n",
        "\n",
        "\n",
        "**Пример №1:**\n",
        "```\n",
        "Ввод:\n",
        "108, 138, 42, 52, 14\n",
        "109, 13, 52, 32, 42, 14, 109\n",
        "\n",
        "Вывод:\n",
        "[42, 52, 14]\n",
        "\n",
        "```\n",
        "\n",
        "**Пример №2:**\n",
        "```\n",
        "Ввод:\n",
        "108, 138, 42, 52, 14\n",
        "189, 202, 249, 24, 15, 3\n",
        "\n",
        "Вывод:\n",
        "[]\n",
        "\n",
        "```\n",
        "\n",
        "**Пример №3:**\n",
        "```\n",
        "Ввод:\n",
        "108, 138, 42, 52, четырнадцать\n",
        "189, 202, 249, 24, 15, 3\n",
        "\n",
        "Вывод:\n",
        "Некорректный ввод\n",
        "\n",
        "```"
      ]
    },
    {
      "cell_type": "code",
      "source": [
        "input_string1 = input('Введите 1-ую последовательность идентификаторов: ')\n",
        "input_string2 = input('Введите 2-ую последовательность идентификаторов: ')\n",
        "# Создаем функцию, которая будет возвращать список с уникальными элементами пересечения или ошибкой\n",
        "def pure_intersection(a,b):\n",
        "    # Внутренняя функция для конвертации введеных значений в множество целых уникальных чисел\n",
        "    def convert_data(data):\n",
        "        result=set(map(int,data.split(', ')))\n",
        "        return result\n",
        "    # ловим ошибку некорректного ввода\n",
        "    try:\n",
        "        a = convert_data(a)\n",
        "        b = convert_data(b)\n",
        "\n",
        "        c = list(a.intersection(b)) # находим пересечение значений введеных последовательностей\n",
        "\n",
        "    except ValueError:\n",
        "        c = 'Некорректный ввод' # сообщение об ошибке ввода\n",
        "\n",
        "    return c\n",
        "# выводим результат пересечения или сообщение об ошибке\n",
        "print(pure_intersection(input_string1,input_string2))"
      ],
      "metadata": {
        "id": "rMdAxk2tIkXE",
        "colab": {
          "base_uri": "https://localhost:8080/"
        },
        "outputId": "ee0ffdb9-c9a8-4db5-da37-28a835081bdf"
      },
      "execution_count": null,
      "outputs": [
        {
          "output_type": "stream",
          "name": "stdout",
          "text": [
            "Введите 1-ую последовательность идентификаторов: 1, 2, 3, 4\n",
            "Введите 2-ую последовательность идентификаторов: 1, 2, 5\n",
            "[1, 2]\n"
          ]
        }
      ]
    },
    {
      "cell_type": "markdown",
      "metadata": {
        "id": "ybOQmu41sn7a"
      },
      "source": [
        "**Подсказка:**\n",
        "\n",
        "Для определения пересечения преобразуйте списки во множества и воспользуйтесь методом `intersection()`."
      ]
    },
    {
      "cell_type": "markdown",
      "metadata": {
        "id": "xMOb5FYMlIyy"
      },
      "source": [
        "**Критерии оценивания:**\n",
        "\n",
        "- Задача решена корректно, выполнены все условия (**2 балла**):\n",
        "    - каждый ввод пользователя конвертируется в список из идентификаторов;\n",
        "    - функция для определения пересечения корректно работает для любого ввода пользователя, обозначенного в условиях задачи;\n",
        "    - решение сопровождено комментариями.\n",
        "- Задача решена корректно, однако не выполнено одно из условий (**1 балл**):\n",
        "    - ввод пользователя не конвертируется в список;\n",
        "    - функция для определения пересечения работает только для ограниченного множества входных данных в рамках условия задачи;\n",
        "    - решение не сопровождено комментариями.\n",
        "- Задача решена с серьёзными ошибками/не решена (**0 баллов**): представлен некорректный алгоритм определения пересечения элементов."
      ]
    },
    {
      "cell_type": "code",
      "execution_count": null,
      "metadata": {
        "id": "1q25F1BRmaiQ",
        "colab": {
          "base_uri": "https://localhost:8080/"
        },
        "outputId": "c377dc2c-368b-47e8-8169-93594a52d65b"
      },
      "outputs": [
        {
          "name": "stdout",
          "output_type": "stream",
          "text": [
            "Введите 1-ую последовательность идентификаторов: 108, 138, 42, 52, четырнадцать\n",
            "Введите 2-ую последовательность идентификаторов: 108, 138, 42\n"
          ]
        }
      ],
      "source": [
        "input_string1 = input('Введите 1-ую последовательность идентификаторов: ')\n",
        "input_string2 = input('Введите 2-ую последовательность идентификаторов: ')\n",
        "# ваш код здесь"
      ]
    },
    {
      "cell_type": "markdown",
      "metadata": {
        "id": "y8pNcNcanUl9"
      },
      "source": [
        "**Эталонное решение:**"
      ]
    },
    {
      "cell_type": "code",
      "execution_count": null,
      "metadata": {
        "id": "HgJjsFn35Z1G"
      },
      "outputs": [],
      "source": [
        "def pure_intersection(arr1, arr2):\n",
        "    return list(set(arr1).intersection(set(arr2)))\n",
        "\n",
        "def convert_to_list(input_string):\n",
        "    try:\n",
        "        result = list(map(int, input_string.split(', ')))\n",
        "    except:\n",
        "        return\n",
        "    return result\n",
        "\n",
        "input_string1 = input('Введите 1-ую последовательность идентификаторов: ')\n",
        "input_string2 = input('Введите 2-ую последовательность идентификаторов: ')\n",
        "\n",
        "input_list1 = convert_to_list(input_string1)\n",
        "input_list2 = convert_to_list(input_string2)\n",
        "if input_list1 is None or input_list2 is None:\n",
        "    print('Некорректный ввод')\n",
        "else:\n",
        "    print(pure_intersection(input_list1, input_list2))"
      ]
    },
    {
      "cell_type": "markdown",
      "metadata": {
        "id": "lcSx2W4WD-ZP"
      },
      "source": [
        "## Задание №2\n",
        "\n",
        "#### Найти минимум и максимум\n",
        "\n",
        "**Компания:** «Авито»\n",
        "\n",
        "**Уровень:** Лёгкий\n",
        "\n",
        "___\n",
        "\n",
        "Пользователь подаёт на вход программе действительные числа через пробел с клавиатуры (через функцию `input()`).\n",
        "\n",
        "Он привык пользоваться Excel, поэтому отделяет дробную часть числа запятой, а не точкой. Кроме того, он может случайно ввести число «словами» (например, не \"5\", а «пять») — в этом случае слово надо игнорировать.\n",
        "\n",
        "**Ваша задача** — вывести минимум и максимум последовательности через запятую с пробелом. Гарантируется, что пользователем будет введено хотя бы одно число.\n",
        "\n",
        "**Пример №1:**\n",
        "\n",
        "```\n",
        "Ввод:\n",
        "-2,56 25,002 восемь 19,13 13 -37,5\n",
        "\n",
        "Вывод:\n",
        "Minimum: -37,5\n",
        "Maximim: 25.002\n",
        "```\n",
        "\n",
        "**Пример №2:**\n",
        "\n",
        "```\n",
        "Ввод:\n",
        "-2,56 25,002 восемь 19,13 13 -37,5\n",
        "\n",
        "Вывод:\n",
        "Minimum: -37,5\n",
        "Maximim: 25.002\n",
        "```\n",
        "\n"
      ]
    },
    {
      "cell_type": "markdown",
      "metadata": {
        "id": "3bYvED2loWL5"
      },
      "source": [
        "**Подсказка №1:**\n",
        "\n",
        "Для проверки того, состоит ли строка `s` только из букв, можно воспользоваться методом `s.isalpha()`.\n",
        "\n",
        "**Подсказка №2:**\n",
        "\n",
        "Для поиска минимума и максимума в списке можно воспользоваться встроенными функциями `min()` и `max()`."
      ]
    },
    {
      "cell_type": "markdown",
      "metadata": {
        "id": "41cS_ucooUZ6"
      },
      "source": [
        "**Критерии оценивания:**\n",
        "\n",
        "- Задача решена корректно, учтены все условия (**2 балла**):\n",
        "    - программа корректно обрабатывает ввод пользователя и работает на любых входных данных;\n",
        "    - программа корректно обрабатывает присутствие слов во вводе пользователя;\n",
        "    - программа корректно рассчитывает минимум и максимум числовой последовательности;\n",
        "    - решение сопровождено комментариями.\n",
        "- Задача решена корректно, но не выполнено одно из условий (**1 балл**):\n",
        "    - программа некорректно обрабатывает ввод пользователя и работает только на конкретном примере входных данных;\n",
        "    - программа некорректно обрабатывает присутствие слов во вводе пользователя, что приводит к ошибкам при выполнении программы;\n",
        "    - решение не сопровождено комментариями.\n",
        "- Задача решена с серьёзными ошибками/не решена (**0 баллов**): программа некорректно рассчитывает минимум и максимум числовой последовательности."
      ]
    },
    {
      "cell_type": "code",
      "execution_count": null,
      "metadata": {
        "id": "A5OMecM7gfug"
      },
      "outputs": [],
      "source": [
        "input_string = input('Введите последовательность чисел: ')\n",
        "# ваш код здесь"
      ]
    },
    {
      "cell_type": "markdown",
      "metadata": {
        "id": "I4RuN80bxp86"
      },
      "source": [
        "**Эталонное решение:**"
      ]
    },
    {
      "cell_type": "code",
      "source": [
        "from collections import Counter\n",
        "cars_moscow = ['black', 'black', 'white', 'black', 'black', 'white', 'yellow', 'yellow', 'yellow']\n",
        "cars_spb = ['red', 'black', 'black', 'white', 'white', 'yellow', 'yellow', 'red', 'white']\n",
        "counter_moscow = Counter(cars_moscow)\n",
        "counter_spb = Counter(cars_spb)\n",
        "\n",
        "print(counter_moscow)\n",
        "print(counter_spb)"
      ],
      "metadata": {
        "colab": {
          "base_uri": "https://localhost:8080/"
        },
        "id": "usH2UAgTOLAX",
        "outputId": "9f032c2c-1d53-4d58-e41e-bf71d9ca29ce"
      },
      "execution_count": null,
      "outputs": [
        {
          "output_type": "stream",
          "name": "stdout",
          "text": [
            "Counter({'black': 4, 'yellow': 3, 'white': 2})\n",
            "Counter({'white': 3, 'red': 2, 'black': 2, 'yellow': 2})\n"
          ]
        }
      ]
    },
    {
      "cell_type": "code",
      "source": [],
      "metadata": {
        "id": "8yk4Z5o4OTKl"
      },
      "execution_count": null,
      "outputs": []
    },
    {
      "cell_type": "code",
      "execution_count": null,
      "metadata": {
        "id": "ULsJsMhvGazd",
        "colab": {
          "base_uri": "https://localhost:8080/",
          "height": 358
        },
        "outputId": "5e4be743-d36e-4ce3-db42-6e25c73ff51f"
      },
      "outputs": [
        {
          "name": "stdout",
          "output_type": "stream",
          "text": [
            "Введите последовательность чисел: 6,5 70 25  десять сто 36,8\n"
          ]
        },
        {
          "output_type": "error",
          "ename": "ValueError",
          "evalue": "could not convert string to float: ''",
          "traceback": [
            "\u001b[0;31m---------------------------------------------------------------------------\u001b[0m",
            "\u001b[0;31mValueError\u001b[0m                                Traceback (most recent call last)",
            "\u001b[0;32m<ipython-input-1-26a39d06f6d7>\u001b[0m in \u001b[0;36m<cell line: 0>\u001b[0;34m()\u001b[0m\n\u001b[1;32m     11\u001b[0m \u001b[0;34m\u001b[0m\u001b[0m\n\u001b[1;32m     12\u001b[0m \u001b[0minput_string\u001b[0m \u001b[0;34m=\u001b[0m \u001b[0minput\u001b[0m\u001b[0;34m(\u001b[0m\u001b[0;34m'Введите последовательность чисел: '\u001b[0m\u001b[0;34m)\u001b[0m\u001b[0;34m\u001b[0m\u001b[0;34m\u001b[0m\u001b[0m\n\u001b[0;32m---> 13\u001b[0;31m \u001b[0minput_min\u001b[0m\u001b[0;34m,\u001b[0m \u001b[0minput_max\u001b[0m \u001b[0;34m=\u001b[0m \u001b[0mfind_input_min_max\u001b[0m\u001b[0;34m(\u001b[0m\u001b[0minput_string\u001b[0m\u001b[0;34m)\u001b[0m\u001b[0;34m\u001b[0m\u001b[0;34m\u001b[0m\u001b[0m\n\u001b[0m\u001b[1;32m     14\u001b[0m \u001b[0mprint\u001b[0m\u001b[0;34m(\u001b[0m\u001b[0;34mf'Minimum {input_min}'\u001b[0m\u001b[0;34m)\u001b[0m\u001b[0;34m\u001b[0m\u001b[0;34m\u001b[0m\u001b[0m\n\u001b[1;32m     15\u001b[0m \u001b[0mprint\u001b[0m\u001b[0;34m(\u001b[0m\u001b[0;34mf'Maximum {input_max}'\u001b[0m\u001b[0;34m)\u001b[0m\u001b[0;34m\u001b[0m\u001b[0;34m\u001b[0m\u001b[0m\n",
            "\u001b[0;32m<ipython-input-1-26a39d06f6d7>\u001b[0m in \u001b[0;36mfind_input_min_max\u001b[0;34m(input_string)\u001b[0m\n\u001b[1;32m      7\u001b[0m             \u001b[0;32mcontinue\u001b[0m\u001b[0;34m\u001b[0m\u001b[0;34m\u001b[0m\u001b[0m\n\u001b[1;32m      8\u001b[0m         \u001b[0;32melse\u001b[0m\u001b[0;34m:\u001b[0m\u001b[0;34m\u001b[0m\u001b[0;34m\u001b[0m\u001b[0m\n\u001b[0;32m----> 9\u001b[0;31m             \u001b[0mnew_list\u001b[0m\u001b[0;34m.\u001b[0m\u001b[0mappend\u001b[0m\u001b[0;34m(\u001b[0m\u001b[0mfloat\u001b[0m\u001b[0;34m(\u001b[0m\u001b[0melem\u001b[0m\u001b[0;34m)\u001b[0m\u001b[0;34m)\u001b[0m\u001b[0;34m\u001b[0m\u001b[0;34m\u001b[0m\u001b[0m\n\u001b[0m\u001b[1;32m     10\u001b[0m     \u001b[0;32mreturn\u001b[0m \u001b[0mmin\u001b[0m\u001b[0;34m(\u001b[0m\u001b[0mnew_list\u001b[0m\u001b[0;34m)\u001b[0m\u001b[0;34m,\u001b[0m \u001b[0mmax\u001b[0m\u001b[0;34m(\u001b[0m\u001b[0mnew_list\u001b[0m\u001b[0;34m)\u001b[0m\u001b[0;34m\u001b[0m\u001b[0;34m\u001b[0m\u001b[0m\n\u001b[1;32m     11\u001b[0m \u001b[0;34m\u001b[0m\u001b[0m\n",
            "\u001b[0;31mValueError\u001b[0m: could not convert string to float: ''"
          ]
        }
      ],
      "source": [
        "def find_input_min_max(input_string):\n",
        "    input_string = input_string.replace(',', '.')\n",
        "    input_list = input_string.split(' ')\n",
        "    new_list = []\n",
        "    for elem in input_list:\n",
        "        if elem.isalpha():\n",
        "            continue\n",
        "        else:\n",
        "            new_list.append(float(elem))\n",
        "    return min(new_list), max(new_list)\n",
        "\n",
        "input_string = input('Введите последовательность чисел: ')\n",
        "input_min, input_max = find_input_min_max(input_string)\n",
        "print(f'Minimum {input_min}')\n",
        "print(f'Maximum {input_max}')"
      ]
    },
    {
      "cell_type": "markdown",
      "metadata": {
        "id": "d7xZUwdD7ea5"
      },
      "source": [
        "## Задание №3\n",
        "\n",
        "#### Найти медиану\n",
        "\n",
        "**Компания:** «Авито»\n",
        "\n",
        "**Уровень:** Лёгкий\n",
        "\n",
        "---\n",
        "Медиана, как и среднее, является одной из важнейших характеристик для числовых данных в статистике.\n",
        "\n",
        "**Медиана** — это число, которое находится в середине упорядоченной по возрастанию числовой последовательности.\n",
        "\n",
        "Например, в последовательности чисел `1, 5, 2, 3, 6` медианой является число `3`, так как если упорядочить числа по возрастанию (`1, 2, 3, 5, 6`), центральным элементом в последовательности будет именно `3`.\n",
        "\n",
        "**Примечание.** *Если в выборке чётное число элементов, то за медиану принимается среднее между центральными элементами (после упорядочивания).*\n",
        "\n",
        "Например, в последовательности чисел `100, 5, 2, 4, 3, 6` медианой является число `4.5`, так как, если упорядочить числа по возрастанию (`2, 3, 4, 5, 6, 100`), то центральным элементом в последовательности будет среднее арифметическое между 4 и 5 ($\\frac{4 + 5} {2} = 4.5$).\n",
        "\n",
        "---\n",
        "Пользователь с клавиатуры (через функцию `input()`) вводит через запятую и пробел неупорядоченную последовательность чисел.\n",
        "\n",
        "Необходимо конвертировать ввод пользователя в список действительных чисел и вывести на экран медиану этой числовой последовательности.\n",
        "\n",
        "Для поиска медианы в списке напишите функцию `find_median()`, которая будет возвращать одно число — медианное значение. Результат работы функции нужно вывести на экран.\n",
        "\n",
        "Если переданная в функцию последовательность окажется пустой (пользователь ничего не ввёл) или пользователь ввёл числа некорректно (ввод нельзя преобразовать в числа), на экран должна быть выведена фраза `Некорректный ввод`.\n",
        "\n",
        "**Пример №1:**\n",
        "```\n",
        "Ввод:\n",
        "1, 5, 2, 3, 6\n",
        "\n",
        "Вывод:\n",
        "Median: 3.0\n",
        "```\n",
        "```\n",
        "Ввод:\n",
        "100, 5, 2, 4, 3, 6\n",
        "\n",
        "Вывод:\n",
        "Median: 4.5\n",
        "```\n",
        "```\n",
        "Ввод:\n",
        "\n",
        "Вывод:\n",
        "Некорректный ввод\n",
        "```\n",
        "```\n",
        "Ввод:\n",
        "десять, 10, пять, 7, семь\n",
        "\n",
        "Вывод:\n",
        "Некорректный ввод\n",
        "```\n"
      ]
    },
    {
      "cell_type": "markdown",
      "metadata": {
        "id": "P_gWYfMWz6tU"
      },
      "source": [
        "**Критерии оценивания:**\n",
        "\n",
        "- Задача решена корректно, выполнены все условия (**2 балла**):\n",
        "    - ввод пользователя конвертируется в список из чисел;\n",
        "    - функция для расчёта медианы работает корректно для списка чётной и нечётной длины;\n",
        "    - в случае некорректного ввода функция возвращает `None`;\n",
        "    - решение сопровождено комментариями.\n",
        "- Задача решена корректно, однако не выполнено одно из условий (**1 балл**):\n",
        "    - ввод пользователя не конвертируется в список;\n",
        "    - функция для расчёта медианы некорректно работает для списка чётной или нечётной длины;\n",
        "    - в случае некорректного ввода функция отрабатывает с ошибкой;\n",
        "    - решение не сопровождено комментариями.\n",
        "- Задача решена с серьёзными ошибками/не решена (**0 баллов**): представлен некорректный алгоритм расчёта медианы для обоих случаев, результат работы программы зависит от вводимой последовательности чисел и т. д."
      ]
    },
    {
      "cell_type": "code",
      "execution_count": null,
      "metadata": {
        "id": "K82QY-Nq0oxy"
      },
      "outputs": [],
      "source": [
        "input_string = input('Введите последовательность чисел: ')\n",
        "# ваш код здесь"
      ]
    },
    {
      "cell_type": "markdown",
      "metadata": {
        "id": "vvbGQSDx0mLL"
      },
      "source": [
        "**Эталонное решение:**"
      ]
    },
    {
      "cell_type": "markdown",
      "metadata": {
        "id": "0U4Wx8hRbqZd"
      },
      "source": []
    },
    {
      "cell_type": "markdown",
      "metadata": {
        "id": "Y7DOkg1LbqWC"
      },
      "source": []
    },
    {
      "cell_type": "code",
      "execution_count": null,
      "metadata": {
        "id": "KP16lBW_7crC",
        "colab": {
          "base_uri": "https://localhost:8080/"
        },
        "outputId": "b44f0e29-551c-4ded-d62c-e089d335eb9f"
      },
      "outputs": [
        {
          "output_type": "stream",
          "name": "stdout",
          "text": [
            "Введите последовательность чисел: 100, 5, 2, 4, 3, 6\n",
            "4.5\n"
          ]
        }
      ],
      "source": [
        "def convert_to_list(input_string):\n",
        "    try:\n",
        "        input_list = input_string.split(',')\n",
        "        input_list = list(map(float, input_list))\n",
        "    except:\n",
        "        return\n",
        "    else:\n",
        "        return input_list\n",
        "\n",
        "def find_median(input_list):\n",
        "    n = len(input_list)\n",
        "    ind = n // 2\n",
        "    if n % 2 != 0:\n",
        "        return sorted(input_list)[ind]\n",
        "    return sum(sorted(input_list)[ind-1:ind+1]) / 2\n",
        "\n",
        "\n",
        "input_string = input('Введите последовательность чисел: ')\n",
        "input_list = convert_to_list(input_string)\n",
        "if input_list is None:\n",
        "    print('Некорректный ввод')\n",
        "else:\n",
        "    print(find_median(input_list))"
      ]
    },
    {
      "cell_type": "markdown",
      "metadata": {
        "id": "9tARUTWtAv_i"
      },
      "source": [
        "### Задание №4\n",
        "\n",
        "#### Преобразовать строку в число\n",
        "\n",
        "**Компания:** «СБЕР»\n",
        "\n",
        "**Уровень:** Средний\n",
        "\n",
        "___\n",
        "\n",
        "Пользователь с клавиатуры (через функцию `input()`) вводит строку — описание числа словами на русском языке.\n",
        "\n",
        "Напишите функцию `transform_string_to_integer()`, которая принимает на вход введённую пользователем строку, конвертирует слова в число и возвращает число, которое описано в строке `s`.\n",
        "\n",
        "**Примечания:**\n",
        "\n",
        "1. Минимальное число — ноль (0) включительно. Максимальное число — один миллион (1000000) включительно.\n",
        "\n",
        "2. Гарантируется, что на вход подаются строки с описанием числа, проверять это не нужно.\n",
        "\n",
        "**Пример №1:**\n",
        "```\n",
        "Ввод:\n",
        "один\n",
        "\n",
        "Вывод:\n",
        "1\n",
        "```\n",
        "\n",
        "**Пример №2:**\n",
        "```\n",
        "Ввод:\n",
        "двадцать\n",
        "\n",
        "Вывод:\n",
        "20\n",
        "```\n",
        "\n",
        "**Пример №3:**\n",
        "```\n",
        "Ввод:\n",
        "двести сорок шесть\n",
        "\n",
        "Вывод:\n",
        "246\n",
        "```\n",
        "\n",
        "**Пример №4:**\n",
        "\n",
        "```\n",
        "Ввод:\n",
        "семьсот восемьдесят три тысячи девятьсот девятнадцать\n",
        "\n",
        "Вывод:\n",
        "783919\n",
        "```\n"
      ]
    },
    {
      "cell_type": "markdown",
      "metadata": {
        "id": "d4pVMbcumlE6"
      },
      "source": [
        "**Подсказка №1:**\n",
        "\n",
        "При решении задачи вам может пригодиться следующий словарь:\n",
        "\n",
        "```python\n",
        "number_word_dict = {\n",
        "    \"ты\": 1000, \"м\": 1000000,\n",
        "    \"сто\": 100, \"двес\": 200, \"трис\": 300, \"четырес\": 400, \"пятьс\": 500, \"шестьс\": 600, \"семьс\": 700, \"восемьс\": 800, \"девятьс\": 900,\n",
        "    \"одинн\": 11, \"двен\": 12, \"трин\": 13, \"четырн\": 14, \"пятн\": 15, \"шестн\": 16, \"семн\": 17, \"восемн\": 18, \"девятн\": 19,\n",
        "    \"двад\": 20, \"трид\": 30, \"сор\": 40, \"пятьд\": 50, \"шестьд\": 60, \"семьд\": 70, \"восемьд\": 80, \"девяно\": 90,\n",
        "    \"деc\": 10, \"н\": 0, \"о\": 1, \"дв\": 2, \"т\": 3, \"ч\": 4, \"п\": 5, \"ш\": 6, \"с\": 7, \"в\": 8, \"д\": 9, }\n",
        "```"
      ]
    },
    {
      "cell_type": "markdown",
      "metadata": {
        "id": "VjglvknF22H4"
      },
      "source": [
        "**Подсказка №2:**\n",
        "\n",
        "При решении задачи вам может пригодиться метод строк `s.startswith(word)`, который определяет, начинается ли строка `s` со строки `word`. Подробнее о нём вы можете узнать в [документации](https://docs-python.ru/tutorial/operatsii-tekstovymi-strokami-str-python/metod-str-startswith/)."
      ]
    },
    {
      "cell_type": "markdown",
      "metadata": {
        "id": "92LiPRiMnTZW"
      },
      "source": [
        "**Критерии оценивания:**\n",
        "\n",
        "- Задача решена корректно, выполнены все условия (**3 балла**):\n",
        "    - программа корректно преобразует заданное словами число в число;\n",
        "    - программа работает корректно для любых входных данных в указанном в задании диапазоне;\n",
        "     решение сопровождено комментариями.\n",
        "- Задача решена корректно, однако не выполнено одно из условий (**2 балла**):\n",
        "    - программа учитывает только несколько возможных вариантов входных данных из указанного в задании диапазона;\n",
        "    - решение не сопровождено комментариями.\n",
        "- Задача решена с серьёзными ошибками (**1 балл**): программа некорректно преобразует входную строку в число, но присутствует подробное описание решения, и это описание приближённо соответствует решению задачи.\n",
        "- Задача не решена (**0 баллов**)."
      ]
    },
    {
      "cell_type": "code",
      "execution_count": null,
      "metadata": {
        "id": "p-TLAi50m_FI"
      },
      "outputs": [],
      "source": [
        "input_string = input('Введите число словами: ')\n",
        "# ваш код здесь"
      ]
    },
    {
      "cell_type": "markdown",
      "metadata": {
        "id": "y8fZZf6pmvWl"
      },
      "source": [
        "**Эталонное решение:**"
      ]
    },
    {
      "cell_type": "code",
      "execution_count": null,
      "metadata": {
        "id": "rv4ztpk1iJ8G",
        "colab": {
          "base_uri": "https://localhost:8080/"
        },
        "outputId": "4942c8a3-96e5-433e-b9ba-f1a807427bce"
      },
      "outputs": [
        {
          "output_type": "stream",
          "name": "stdout",
          "text": [
            "Введите число словами: девятьсот девяносто три тысячи пятьсот сорок семь\n",
            "Filtered Key девятьс\n",
            "Number 900\n",
            "Print2 -  0 900\n",
            "Filtered Key девяно\n",
            "Number 90\n",
            "Print2 -  0 990\n",
            "Filtered Key т\n",
            "Number 3\n",
            "Print2 -  0 993\n",
            "Filtered Key ты\n",
            "Number 1000\n",
            "Print1 -  993000 0\n",
            "Filtered Key пятьс\n",
            "Number 500\n",
            "Print2 -  993000 500\n",
            "Filtered Key сор\n",
            "Number 40\n",
            "Print2 -  993000 540\n",
            "Filtered Key с\n",
            "Number 7\n",
            "Print2 -  993000 547\n"
          ]
        },
        {
          "output_type": "execute_result",
          "data": {
            "text/plain": [
              "993547"
            ]
          },
          "metadata": {},
          "execution_count": 2
        }
      ],
      "source": [
        "number_word_dict = {\n",
        "    \"ты\": 1000, \"м\": 1000000,\n",
        "    \"сто\": 100, \"двес\": 200, \"трис\": 300, \"четырес\": 400, \"пятьс\": 500, \"шестьс\": 600, \"семьс\": 700, \"восемьс\": 800, \"девятьс\": 900,\n",
        "    \"одинн\": 11, \"двен\": 12, \"трин\": 13, \"четырн\": 14, \"пятн\": 15, \"шестн\": 16, \"семн\": 17, \"восемн\": 18, \"девятн\": 19,\n",
        "    \"двад\": 20, \"трид\": 30, \"сор\": 40, \"пятьд\": 50, \"шестьд\": 60, \"семьд\": 70, \"восемьд\": 80, \"девяно\": 90,\n",
        "    \"деc\": 10, \"н\": 0, \"о\": 1, \"дв\": 2, \"т\": 3, \"ч\": 4, \"п\": 5, \"ш\": 6, \"с\": 7, \"в\": 8, \"д\": 9 }\n",
        "\n",
        "def string_to_number(input_string):\n",
        "    sum = 0\n",
        "    tmp = 0\n",
        "    words = input_string.split()\n",
        "    keys = list(number_word_dict.keys())\n",
        "    for word in words:\n",
        "        filtered_key = list(filter(lambda key : word.startswith(key), keys))[0]\n",
        "        number = number_word_dict[filtered_key]\n",
        "        print('Filtered Key', filtered_key)\n",
        "        print('Number', number)\n",
        "        if tmp > 0 and number > 900:\n",
        "            sum = sum + (number * tmp)\n",
        "            tmp = 0\n",
        "            print('Print1 - ', sum, tmp)\n",
        "        else:\n",
        "            tmp = tmp + number\n",
        "            print('Print2 - ', sum, tmp)\n",
        "    res = sum + tmp\n",
        "    if res > 1000000:\n",
        "        return print(\"превышен максимум\")\n",
        "    return res\n",
        "\n",
        "input_string = input('Введите число словами: ')\n",
        "string_to_number(input_string)"
      ]
    },
    {
      "cell_type": "code",
      "source": [],
      "metadata": {
        "id": "y4ZSi532SmSg"
      },
      "execution_count": null,
      "outputs": []
    },
    {
      "cell_type": "markdown",
      "metadata": {
        "id": "626ppEQ6dqz8"
      },
      "source": [
        "**Подсказка №1:**\n",
        "\n",
        "Функцию для вычисления факториала мы уже реализовывали, когда говорили о рекурсии в Python. Вы можете воспользоваться нашим вариантом функции\n",
        "\n",
        "```python\n",
        "def factorial(n):\n",
        "    if n == 1 or n == 0:\n",
        "        return 1\n",
        "    return n * factorial(n-1)\n",
        "factorial(5)\n",
        "```\n",
        "\n",
        "или использовать реализацию из встроенной библиотеки `math`:\n",
        "\n",
        "```python\n",
        "from math import factorial\n",
        "factorial(5)\n",
        "```"
      ]
    },
    {
      "cell_type": "markdown",
      "metadata": {
        "id": "oci_M2LheV7j"
      },
      "source": [
        "**Подсказка №2:**\n",
        "\n",
        "Алгоритм нахождения простых множителей числа вы можете найти [здесь](https://foxford.ru/wiki/informatika/razlozhenie-chisla-na-mnozhiteli-v-python)."
      ]
    },
    {
      "cell_type": "code",
      "execution_count": null,
      "metadata": {
        "id": "9izi69kEh5Y_"
      },
      "outputs": [],
      "source": [
        "n = input('Введите число: ')\n",
        "# ваш код здесь"
      ]
    },
    {
      "cell_type": "markdown",
      "metadata": {
        "id": "noXOUgIih2iW"
      },
      "source": [
        "**Эталонное решение:**"
      ]
    },
    {
      "cell_type": "code",
      "execution_count": null,
      "metadata": {
        "id": "t-FtUC8mYFEh",
        "colab": {
          "base_uri": "https://localhost:8080/",
          "height": 59
        },
        "outputId": "6850317b-450b-4644-d87e-5bb17f9ed068"
      },
      "outputs": [
        {
          "name": "stdout",
          "output_type": "stream",
          "text": [
            "Введите число: 22\n"
          ]
        },
        {
          "output_type": "execute_result",
          "data": {
            "text/plain": [
              "'2^19 * 3^9 * 5^4 * 7^3 * 11^2 * 13 * 17 * 19'"
            ],
            "application/vnd.google.colaboratory.intrinsic+json": {
              "type": "string"
            }
          },
          "metadata": {},
          "execution_count": 1
        }
      ],
      "source": [
        "def decompose_factorial(n):\n",
        "    def factorial(n):\n",
        "        if n == 1 or n == 0:\n",
        "            return 1\n",
        "        return n * factorial(n-1)\n",
        "\n",
        "    def factors(n):\n",
        "        d = 2\n",
        "        factors_list = []\n",
        "        while d**2 <= n:\n",
        "            if n % d == 0:\n",
        "                factors_list.append(d)\n",
        "                n //= d # n = n // d\n",
        "            else:\n",
        "                d += 1\n",
        "        if n > 1:\n",
        "            factors_list.append(n)\n",
        "        return factors_list\n",
        "\n",
        "    def get_count_factors(factors_list):\n",
        "        factors_count = {}\n",
        "        for factor in factors_list:\n",
        "            if factor not in factors_count:\n",
        "                factors_count[factor] = 1\n",
        "            else:\n",
        "                factors_count[factor] += 1\n",
        "        return factors_count\n",
        "\n",
        "    n = factorial(n)\n",
        "    factors_list = factors(n)\n",
        "    factors_count = get_count_factors(factors_list)\n",
        "\n",
        "    results = []\n",
        "    for factor, count in factors_count.items():\n",
        "        if count > 1:\n",
        "            results.append(f'{factor}^{count}')\n",
        "        else:\n",
        "            results.append(f'{factor}')\n",
        "    result = ' * '.join(results)\n",
        "    return result\n",
        "\n",
        "n = int(input('Введите число: '))\n",
        "decompose_factorial(n)"
      ]
    },
    {
      "cell_type": "markdown",
      "metadata": {
        "id": "rN1ykdUsY6pm"
      },
      "source": [
        "**ВНИМАНИЕ!** Если задача решена, напишите комментарий по её решению/рекомендации по улучшению решения в поле для обратной связи. Если задача не решена, поставьте прочерк в поле для обратной связи."
      ]
    },
    {
      "cell_type": "markdown",
      "metadata": {
        "id": "TW27stvQ9Tz6"
      },
      "source": [
        "## Задание №6 (бонусная, не оценивается)\n",
        "\n",
        "#### Заменить дублирующиеся буквы\n",
        "\n",
        "**Компания:** «СБЕР»\n",
        "\n",
        "**Уровень:** Сложный\n",
        "\n",
        "____\n",
        "\n",
        "Пользователь с клавиатуры (через функцию `input()`) вводит строку, состоящую из символов латинского алфавита.\n",
        "\n",
        "Необходимо последовательно заменять две одинаковые буквы во введённой строке на следующую по алфавиту букву (важно: заменяем по 2 одинаковых буквы за одну итерацию, не более). Операция замены должна повторяться до тех пор, пока в строке не останутся только уникальные символы.\n",
        "\n",
        "**Несколько важных моментов:**\n",
        "\n",
        "* буквы не обязаны быть смежными (смежные — стоящие рядом; в строке `'abc'` буквы a и b, а также b и c являются смежными, в то время как a и c — нет);\n",
        "* zz заменяем на a;\n",
        "* вводимая строка состоит из букв латинского алфавита в нижнем регистре.\n",
        "\n",
        "Напишите функцию `replace_duplicates()`, которая принимает на вход произвольную строку `s`, значение которой вводится с клавиатуры. Функция должна последовательно производить описанную операцию и возвращать строку с оставшимися буквами в любом порядке.\n",
        "\n",
        "**Пример:**\n",
        "```\n",
        "input:\n",
        "zzzab\n",
        "\n",
        "step 1: zaba\n",
        "step 2: zbb\n",
        "step 3: zc\n",
        "\n",
        "output:\n",
        "cz\n",
        "```\n",
        "\n",
        "```\n",
        "input:\n",
        "hhakafh\n",
        "\n",
        "step 1: haakfi\n",
        "step 2: hkfib\n",
        "\n",
        "output:\n",
        "hkfib\n",
        "```"
      ]
    },
    {
      "cell_type": "markdown",
      "metadata": {
        "id": "ZvROTpFhTLDr"
      },
      "source": [
        "**Подсказка:**\n",
        "\n",
        "При решении задачи вам может понадобиться латинский алфавит. Вы можете получить его из встроенной в Python библиотеки `string`:"
      ]
    },
    {
      "cell_type": "code",
      "execution_count": null,
      "metadata": {
        "id": "S8Hx52tioycF",
        "colab": {
          "base_uri": "https://localhost:8080/"
        },
        "outputId": "2cc77b3a-3ebc-4944-d72e-3acbbe66526d"
      },
      "outputs": [
        {
          "output_type": "stream",
          "name": "stdout",
          "text": [
            "abcdefghijklmnopqrstuvwxyz\n"
          ]
        }
      ],
      "source": [
        "import string\n",
        "alphabet = string.ascii_lowercase\n",
        "print(alphabet)"
      ]
    },
    {
      "cell_type": "code",
      "execution_count": null,
      "metadata": {
        "id": "hTz3TVKcVG5l",
        "colab": {
          "base_uri": "https://localhost:8080/"
        },
        "outputId": "f40c05b3-5fe5-49d1-caaf-a66021c0dfe4"
      },
      "outputs": [
        {
          "name": "stdout",
          "output_type": "stream",
          "text": [
            "Введите строку: hhakafh\n"
          ]
        }
      ],
      "source": [
        "# ваш код здесь\n",
        "s = input('Введите строку: ')"
      ]
    },
    {
      "cell_type": "markdown",
      "metadata": {
        "id": "irX6vkG0ItRs"
      },
      "source": [
        "**Эталонное решение:**"
      ]
    },
    {
      "cell_type": "code",
      "execution_count": null,
      "metadata": {
        "id": "h8GR8J-5nxEC",
        "colab": {
          "base_uri": "https://localhost:8080/",
          "height": 608
        },
        "outputId": "78a23943-ff52-48c8-c19f-4383fba4f0a2"
      },
      "outputs": [
        {
          "output_type": "stream",
          "name": "stdout",
          "text": [
            "Введите строку: afhbafhfbafhfbshfsbhasd\n",
            "[('f', 6), ('h', 5), ('a', 4), ('b', 4), ('s', 3), ('d', 1)]\n",
            "ffffhhhhhaaaabbbbsssdg\n",
            "[('h', 5), ('f', 4), ('a', 4), ('b', 4), ('s', 3), ('d', 1), ('g', 1)]\n",
            "hhhffffaaaabbbbsssdgi\n",
            "[('f', 4), ('a', 4), ('b', 4), ('h', 3), ('s', 3), ('d', 1), ('g', 1), ('i', 1)]\n",
            "ffaaaabbbbhhhsssdgig\n",
            "[('a', 4), ('b', 4), ('h', 3), ('s', 3), ('f', 2), ('g', 2), ('d', 1), ('i', 1)]\n",
            "aabbbbhhhsssffggdib\n",
            "[('b', 5), ('h', 3), ('s', 3), ('a', 2), ('f', 2), ('g', 2), ('d', 1), ('i', 1)]\n",
            "bbbhhhsssaaffggdic\n",
            "[('b', 3), ('h', 3), ('s', 3), ('a', 2), ('f', 2), ('g', 2), ('d', 1), ('i', 1), ('c', 1)]\n",
            "bhhhsssaaffggdicc\n",
            "[('h', 3), ('s', 3), ('a', 2), ('f', 2), ('g', 2), ('c', 2), ('b', 1), ('d', 1), ('i', 1)]\n",
            "hsssaaffggccbdii\n",
            "[('s', 3), ('a', 2), ('f', 2), ('g', 2), ('c', 2), ('i', 2), ('h', 1), ('b', 1), ('d', 1)]\n",
            "saaffggcciihbdt\n",
            "[('a', 2), ('f', 2), ('g', 2), ('c', 2), ('i', 2), ('s', 1), ('h', 1), ('b', 1), ('d', 1), ('t', 1)]\n",
            "ffggcciishbdtb\n",
            "[('f', 2), ('g', 2), ('c', 2), ('i', 2), ('b', 2), ('s', 1), ('h', 1), ('d', 1), ('t', 1)]\n",
            "ggcciibbshdtg\n",
            "[('g', 3), ('c', 2), ('i', 2), ('b', 2), ('s', 1), ('h', 1), ('d', 1), ('t', 1)]\n",
            "gcciibbshdth\n",
            "[('c', 2), ('i', 2), ('b', 2), ('h', 2), ('g', 1), ('s', 1), ('d', 1), ('t', 1)]\n",
            "iibbhhgsdtd\n",
            "[('i', 2), ('b', 2), ('h', 2), ('d', 2), ('g', 1), ('s', 1), ('t', 1)]\n",
            "bbhhddgstj\n",
            "[('b', 2), ('h', 2), ('d', 2), ('g', 1), ('s', 1), ('t', 1), ('j', 1)]\n",
            "hhddgstjc\n",
            "[('h', 2), ('d', 2), ('g', 1), ('s', 1), ('t', 1), ('j', 1), ('c', 1)]\n",
            "ddgstjci\n",
            "[('d', 2), ('g', 1), ('s', 1), ('t', 1), ('j', 1), ('c', 1), ('i', 1)]\n",
            "gstjcie\n"
          ]
        },
        {
          "output_type": "execute_result",
          "data": {
            "text/plain": [
              "'gstjcie'"
            ],
            "application/vnd.google.colaboratory.intrinsic+json": {
              "type": "string"
            }
          },
          "metadata": {},
          "execution_count": 4
        }
      ],
      "source": [
        "import string\n",
        "alphabet = string.ascii_lowercase\n",
        "def find_count_symbol(s):\n",
        "    result = {}\n",
        "    for symbol in s:\n",
        "        if symbol not in result:\n",
        "            result[symbol] = 1\n",
        "        else:\n",
        "            result[symbol] += 1\n",
        "    return result\n",
        "\n",
        "def replace_duplicetes_step(s):\n",
        "    alphabet = string.ascii_lowercase*2\n",
        "    symbol_counts = find_count_symbol(s)\n",
        "    symbols_counts = sorted(symbol_counts.items(), key=lambda x: x[1], reverse=True)\n",
        "    max_symbol, max_count = symbols_counts[0]\n",
        "    print(symbols_counts)\n",
        "    if max_count > 1:\n",
        "        symbols_counts = dict(symbols_counts)\n",
        "        symbols_counts[max_symbol] = max_count - 2\n",
        "        symbol_index = alphabet.find(max_symbol)\n",
        "        s = ''\n",
        "        for symbol in symbols_counts:\n",
        "            s += ''.join(symbol * symbols_counts[symbol])\n",
        "        s += alphabet[symbol_index+1]\n",
        "    return s\n",
        "\n",
        "def replace_duplicates(s):\n",
        "    while len(s) != len(set(s)):\n",
        "        s = replace_duplicetes_step(s)\n",
        "        print(s)\n",
        "    return s\n",
        "\n",
        "s = input('Введите строку: ')\n",
        "replace_duplicates(s)"
      ]
    },
    {
      "cell_type": "markdown",
      "metadata": {
        "id": "N3jqmRGlZZDC"
      },
      "source": [
        "**ВНИМАНИЕ!** Если задача решена, напишите комментарий по её решению/рекомендации по улучшению решения в поле для обратной связи. Если задача не решена, поставьте прочерк в поле для обратной связи."
      ]
    },
    {
      "cell_type": "code",
      "source": [
        "import numpy as np\n",
        "simplelist = [19, 242, 14, 152, 142, 1000]\n",
        "arr = np.array(simplelist)\n",
        "print(np.mean(arr))"
      ],
      "metadata": {
        "id": "z6rPbawpLLkZ",
        "colab": {
          "base_uri": "https://localhost:8080/"
        },
        "outputId": "ffae3d1c-b15b-4afe-94a4-7ba9af0a7f29"
      },
      "execution_count": null,
      "outputs": [
        {
          "output_type": "stream",
          "name": "stdout",
          "text": [
            "261.5\n"
          ]
        }
      ]
    },
    {
      "cell_type": "code",
      "source": [
        "from collections import Counter\n",
        "c = Counter()\n",
        "c['red'] += 1\n",
        "print(c)"
      ],
      "metadata": {
        "id": "ksYaplSukM4z",
        "colab": {
          "base_uri": "https://localhost:8080/"
        },
        "outputId": "78e465a4-9e16-421a-a6f0-1ca67e8a9f65"
      },
      "execution_count": null,
      "outputs": [
        {
          "output_type": "stream",
          "name": "stdout",
          "text": [
            "Counter({'red': 1})\n"
          ]
        }
      ]
    },
    {
      "cell_type": "code",
      "source": [
        "purchases = ['Adidas', 'Nike']\n",
        "prices = {'Adidas': 4298, 'Nike': 6550, 'Puma': 4490, 'Asics': 3879}\n",
        "if purchases:\n",
        "    if len(purchases) == 1:\n",
        "        cost_good = prices[purchases[0]]\n",
        "        print(f'Стоимость заказа составила: {cost_good}')\n",
        "    elif len(purchases) == 2:\n",
        "        if len(set(purchases)) == 1:\n",
        "            discount = 10\n",
        "        else:\n",
        "            discount = 5\n",
        "        cost_good = prices[purchases[0]] + prices[purchases[1]]\n",
        "        cost_with_discount = cost_good * (1 - discount/100)\n",
        "        print(f'Стоимость заказа составила: {cost_good}. С учетом скидки в {discount}% - {cost_with_discount}')\n",
        "else:\n",
        "    print('Ваша корзина пуста')"
      ],
      "metadata": {
        "colab": {
          "base_uri": "https://localhost:8080/"
        },
        "id": "e71mLcJcR7HV",
        "outputId": "a767bf06-73b3-4730-a283-69d2e4ec4dcf"
      },
      "execution_count": null,
      "outputs": [
        {
          "output_type": "stream",
          "name": "stdout",
          "text": [
            "Стоимость заказа составила: 10848. С учетом скидки в 5% - 10305.6\n"
          ]
        }
      ]
    }
  ],
  "metadata": {
    "colab": {
      "provenance": [],
      "include_colab_link": true
    },
    "kernelspec": {
      "display_name": "Python 3",
      "name": "python3"
    },
    "language_info": {
      "name": "python"
    }
  },
  "nbformat": 4,
  "nbformat_minor": 0
}